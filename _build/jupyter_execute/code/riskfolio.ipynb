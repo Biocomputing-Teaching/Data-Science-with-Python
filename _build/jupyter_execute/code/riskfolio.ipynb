{
 "cells": [
  {
   "cell_type": "markdown",
   "metadata": {},
   "source": [
    "from https://medium.com/@orenji.eirl/hierarchical-clustering-and-networks-with-python-and-riskfolio-lib-dd3f09a5e9af"
   ]
  },
  {
   "cell_type": "code",
   "execution_count": 1,
   "metadata": {},
   "outputs": [
    {
     "name": "stdout",
     "output_type": "stream",
     "text": [
      "\r",
      "[                       0%%                      ]"
     ]
    },
    {
     "name": "stdout",
     "output_type": "stream",
     "text": [
      "\r",
      "[                       0%%                      ]"
     ]
    },
    {
     "name": "stdout",
     "output_type": "stream",
     "text": [
      "\r",
      "[******                12%%                      ]  3 of 25 completed"
     ]
    },
    {
     "name": "stdout",
     "output_type": "stream",
     "text": [
      "\r",
      "[********              16%%                      ]  4 of 25 completed"
     ]
    },
    {
     "name": "stdout",
     "output_type": "stream",
     "text": [
      "\r",
      "[********              16%%                      ]  4 of 25 completed"
     ]
    },
    {
     "name": "stdout",
     "output_type": "stream",
     "text": [
      "\r",
      "[************          24%%                      ]  6 of 25 completed"
     ]
    },
    {
     "name": "stdout",
     "output_type": "stream",
     "text": [
      "\r",
      "[************          24%%                      ]  6 of 25 completed"
     ]
    },
    {
     "name": "stdout",
     "output_type": "stream",
     "text": [
      "\r",
      "[***************       32%%                      ]  8 of 25 completed"
     ]
    },
    {
     "name": "stdout",
     "output_type": "stream",
     "text": [
      "\r",
      "[*****************     36%%                      ]  9 of 25 completed"
     ]
    },
    {
     "name": "stdout",
     "output_type": "stream",
     "text": [
      "\r",
      "[*******************   40%%                      ]  10 of 25 completed"
     ]
    },
    {
     "name": "stdout",
     "output_type": "stream",
     "text": [
      "\r",
      "[*******************   40%%                      ]  10 of 25 completed"
     ]
    },
    {
     "name": "stdout",
     "output_type": "stream",
     "text": [
      "\r",
      "[**********************48%%                      ]  12 of 25 completed"
     ]
    },
    {
     "name": "stdout",
     "output_type": "stream",
     "text": [
      "\r",
      "[**********************52%%                      ]  13 of 25 completed"
     ]
    },
    {
     "name": "stdout",
     "output_type": "stream",
     "text": [
      "\r",
      "[**********************56%%*                     ]  14 of 25 completed"
     ]
    },
    {
     "name": "stdout",
     "output_type": "stream",
     "text": [
      "\r",
      "[**********************60%%***                   ]  15 of 25 completed"
     ]
    },
    {
     "name": "stdout",
     "output_type": "stream",
     "text": [
      "\r",
      "[**********************64%%*****                 ]  16 of 25 completed"
     ]
    },
    {
     "name": "stdout",
     "output_type": "stream",
     "text": [
      "\r",
      "[**********************68%%*******               ]  17 of 25 completed"
     ]
    },
    {
     "name": "stdout",
     "output_type": "stream",
     "text": [
      "\r",
      "[**********************68%%*******               ]  17 of 25 completed"
     ]
    },
    {
     "name": "stdout",
     "output_type": "stream",
     "text": [
      "\r",
      "[**********************76%%**********            ]  19 of 25 completed"
     ]
    },
    {
     "name": "stdout",
     "output_type": "stream",
     "text": [
      "\r",
      "[**********************80%%************          ]  20 of 25 completed"
     ]
    },
    {
     "name": "stdout",
     "output_type": "stream",
     "text": [
      "\r",
      "[**********************84%%**************        ]  21 of 25 completed"
     ]
    },
    {
     "name": "stdout",
     "output_type": "stream",
     "text": [
      "\r",
      "[**********************88%%****************      ]  22 of 25 completed"
     ]
    },
    {
     "name": "stdout",
     "output_type": "stream",
     "text": [
      "\r",
      "[**********************92%%******************    ]  23 of 25 completed"
     ]
    },
    {
     "name": "stdout",
     "output_type": "stream",
     "text": [
      "\r",
      "[**********************96%%********************  ]  24 of 25 completed"
     ]
    },
    {
     "name": "stdout",
     "output_type": "stream",
     "text": [
      "\r",
      "[*********************100%%**********************]  25 of 25 completed"
     ]
    },
    {
     "name": "stdout",
     "output_type": "stream",
     "text": [
      "\n"
     ]
    }
   ],
   "source": [
    "import numpy as np\n",
    "import pandas as pd\n",
    "import yfinance as yf\n",
    "import warnings\n",
    "warnings.filterwarnings(\"ignore\")\n",
    "pd.options.display.float_format = '{:.4%}'.format\n",
    "# Date range\n",
    "start = '2016-01-01'\n",
    "end = '2019-12-30'\n",
    "# Tickers of assets\n",
    "assets = ['JCI', 'TGT', 'CMCSA', 'CPB', 'MO', 'APA', 'MMC', 'JPM',\n",
    "          'ZION', 'PSA', 'BAX', 'BMY', 'LUV', 'PCAR', 'TXT', 'TMO',\n",
    "          'DE', 'MSFT', 'HPQ', 'SEE', 'VZ', 'CNP', 'NI', 'T', 'BA']\n",
    "assets.sort()\n",
    "# Downloading data\n",
    "data = yf.download(assets, start = start, end = end)\n"
   ]
  },
  {
   "cell_type": "code",
   "execution_count": 2,
   "metadata": {},
   "outputs": [
    {
     "data": {
      "text/html": [
       "<div>\n",
       "<style scoped>\n",
       "    .dataframe tbody tr th:only-of-type {\n",
       "        vertical-align: middle;\n",
       "    }\n",
       "\n",
       "    .dataframe tbody tr th {\n",
       "        vertical-align: top;\n",
       "    }\n",
       "\n",
       "    .dataframe thead tr th {\n",
       "        text-align: left;\n",
       "    }\n",
       "\n",
       "    .dataframe thead tr:last-of-type th {\n",
       "        text-align: right;\n",
       "    }\n",
       "</style>\n",
       "<table border=\"1\" class=\"dataframe\">\n",
       "  <thead>\n",
       "    <tr>\n",
       "      <th></th>\n",
       "      <th colspan=\"10\" halign=\"left\">Adj Close</th>\n",
       "      <th>...</th>\n",
       "      <th colspan=\"10\" halign=\"left\">Volume</th>\n",
       "    </tr>\n",
       "    <tr>\n",
       "      <th></th>\n",
       "      <th>APA</th>\n",
       "      <th>BA</th>\n",
       "      <th>BAX</th>\n",
       "      <th>BMY</th>\n",
       "      <th>CMCSA</th>\n",
       "      <th>CNP</th>\n",
       "      <th>CPB</th>\n",
       "      <th>DE</th>\n",
       "      <th>HPQ</th>\n",
       "      <th>JCI</th>\n",
       "      <th>...</th>\n",
       "      <th>NI</th>\n",
       "      <th>PCAR</th>\n",
       "      <th>PSA</th>\n",
       "      <th>SEE</th>\n",
       "      <th>T</th>\n",
       "      <th>TGT</th>\n",
       "      <th>TMO</th>\n",
       "      <th>TXT</th>\n",
       "      <th>VZ</th>\n",
       "      <th>ZION</th>\n",
       "    </tr>\n",
       "    <tr>\n",
       "      <th>Date</th>\n",
       "      <th></th>\n",
       "      <th></th>\n",
       "      <th></th>\n",
       "      <th></th>\n",
       "      <th></th>\n",
       "      <th></th>\n",
       "      <th></th>\n",
       "      <th></th>\n",
       "      <th></th>\n",
       "      <th></th>\n",
       "      <th></th>\n",
       "      <th></th>\n",
       "      <th></th>\n",
       "      <th></th>\n",
       "      <th></th>\n",
       "      <th></th>\n",
       "      <th></th>\n",
       "      <th></th>\n",
       "      <th></th>\n",
       "      <th></th>\n",
       "      <th></th>\n",
       "    </tr>\n",
       "  </thead>\n",
       "  <tbody>\n",
       "    <tr>\n",
       "      <th>2016-01-04</th>\n",
       "      <td>3777.1763%</td>\n",
       "      <td>12600.5112%</td>\n",
       "      <td>3340.9763%</td>\n",
       "      <td>5312.6434%</td>\n",
       "      <td>2357.6456%</td>\n",
       "      <td>1382.9149%</td>\n",
       "      <td>4059.8404%</td>\n",
       "      <td>6652.3376%</td>\n",
       "      <td>907.7955%</td>\n",
       "      <td>2440.2458%</td>\n",
       "      <td>...</td>\n",
       "      <td>2592700</td>\n",
       "      <td>4318500</td>\n",
       "      <td>1220900</td>\n",
       "      <td>1697500</td>\n",
       "      <td>42076058</td>\n",
       "      <td>8233300</td>\n",
       "      <td>3287500</td>\n",
       "      <td>1658200</td>\n",
       "      <td>17821600</td>\n",
       "      <td>3523300</td>\n",
       "    </tr>\n",
       "    <tr>\n",
       "      <th>2016-01-05</th>\n",
       "      <td>3700.6630%</td>\n",
       "      <td>12651.6319%</td>\n",
       "      <td>3354.4579%</td>\n",
       "      <td>5417.2630%</td>\n",
       "      <td>2358.0694%</td>\n",
       "      <td>1395.7831%</td>\n",
       "      <td>4074.7715%</td>\n",
       "      <td>6690.8104%</td>\n",
       "      <td>916.4038%</td>\n",
       "      <td>2411.0758%</td>\n",
       "      <td>...</td>\n",
       "      <td>3138800</td>\n",
       "      <td>3235200</td>\n",
       "      <td>776000</td>\n",
       "      <td>1307300</td>\n",
       "      <td>40656465</td>\n",
       "      <td>8191400</td>\n",
       "      <td>3184400</td>\n",
       "      <td>1514400</td>\n",
       "      <td>15632800</td>\n",
       "      <td>2653600</td>\n",
       "    </tr>\n",
       "    <tr>\n",
       "      <th>2016-01-06</th>\n",
       "      <td>3275.5932%</td>\n",
       "      <td>12450.7408%</td>\n",
       "      <td>3362.5477%</td>\n",
       "      <td>5322.1535%</td>\n",
       "      <td>2339.8493%</td>\n",
       "      <td>1378.3731%</td>\n",
       "      <td>4067.6991%</td>\n",
       "      <td>6615.6151%</td>\n",
       "      <td>883.5353%</td>\n",
       "      <td>2388.0474%</td>\n",
       "      <td>...</td>\n",
       "      <td>3525700</td>\n",
       "      <td>4285350</td>\n",
       "      <td>589800</td>\n",
       "      <td>1116500</td>\n",
       "      <td>35631223</td>\n",
       "      <td>4921400</td>\n",
       "      <td>2300800</td>\n",
       "      <td>2258000</td>\n",
       "      <td>19082700</td>\n",
       "      <td>4164200</td>\n",
       "    </tr>\n",
       "    <tr>\n",
       "      <th>2016-01-07</th>\n",
       "      <td>3107.2653%</td>\n",
       "      <td>11928.7819%</td>\n",
       "      <td>3306.8199%</td>\n",
       "      <td>5174.7349%</td>\n",
       "      <td>2314.0015%</td>\n",
       "      <td>1351.1236%</td>\n",
       "      <td>4018.0454%</td>\n",
       "      <td>6557.0305%</td>\n",
       "      <td>842.8411%</td>\n",
       "      <td>2327.4069%</td>\n",
       "      <td>...</td>\n",
       "      <td>3047600</td>\n",
       "      <td>4433850</td>\n",
       "      <td>633700</td>\n",
       "      <td>1541500</td>\n",
       "      <td>46487494</td>\n",
       "      <td>11289900</td>\n",
       "      <td>2470900</td>\n",
       "      <td>2192900</td>\n",
       "      <td>19277600</td>\n",
       "      <td>4234000</td>\n",
       "    </tr>\n",
       "    <tr>\n",
       "      <th>2016-01-08</th>\n",
       "      <td>3115.7679%</td>\n",
       "      <td>11657.9399%</td>\n",
       "      <td>3253.7880%</td>\n",
       "      <td>5043.1667%</td>\n",
       "      <td>2316.5436%</td>\n",
       "      <td>1348.0961%</td>\n",
       "      <td>4040.9740%</td>\n",
       "      <td>6449.4804%</td>\n",
       "      <td>827.9717%</td>\n",
       "      <td>2323.5682%</td>\n",
       "      <td>...</td>\n",
       "      <td>2933800</td>\n",
       "      <td>4197600</td>\n",
       "      <td>600600</td>\n",
       "      <td>2144600</td>\n",
       "      <td>37192219</td>\n",
       "      <td>7749000</td>\n",
       "      <td>2148100</td>\n",
       "      <td>3436000</td>\n",
       "      <td>16594800</td>\n",
       "      <td>3401600</td>\n",
       "    </tr>\n",
       "  </tbody>\n",
       "</table>\n",
       "<p>5 rows × 150 columns</p>\n",
       "</div>"
      ],
      "text/plain": [
       "            Adj Close                                                          \\\n",
       "                  APA          BA        BAX        BMY      CMCSA        CNP   \n",
       "Date                                                                            \n",
       "2016-01-04 3777.1763% 12600.5112% 3340.9763% 5312.6434% 2357.6456% 1382.9149%   \n",
       "2016-01-05 3700.6630% 12651.6319% 3354.4579% 5417.2630% 2358.0694% 1395.7831%   \n",
       "2016-01-06 3275.5932% 12450.7408% 3362.5477% 5322.1535% 2339.8493% 1378.3731%   \n",
       "2016-01-07 3107.2653% 11928.7819% 3306.8199% 5174.7349% 2314.0015% 1351.1236%   \n",
       "2016-01-08 3115.7679% 11657.9399% 3253.7880% 5043.1667% 2316.5436% 1348.0961%   \n",
       "\n",
       "                                                       ...   Volume           \\\n",
       "                  CPB         DE       HPQ        JCI  ...       NI     PCAR   \n",
       "Date                                                   ...                     \n",
       "2016-01-04 4059.8404% 6652.3376% 907.7955% 2440.2458%  ...  2592700  4318500   \n",
       "2016-01-05 4074.7715% 6690.8104% 916.4038% 2411.0758%  ...  3138800  3235200   \n",
       "2016-01-06 4067.6991% 6615.6151% 883.5353% 2388.0474%  ...  3525700  4285350   \n",
       "2016-01-07 4018.0454% 6557.0305% 842.8411% 2327.4069%  ...  3047600  4433850   \n",
       "2016-01-08 4040.9740% 6449.4804% 827.9717% 2323.5682%  ...  2933800  4197600   \n",
       "\n",
       "                                                                              \\\n",
       "                PSA      SEE         T       TGT      TMO      TXT        VZ   \n",
       "Date                                                                           \n",
       "2016-01-04  1220900  1697500  42076058   8233300  3287500  1658200  17821600   \n",
       "2016-01-05   776000  1307300  40656465   8191400  3184400  1514400  15632800   \n",
       "2016-01-06   589800  1116500  35631223   4921400  2300800  2258000  19082700   \n",
       "2016-01-07   633700  1541500  46487494  11289900  2470900  2192900  19277600   \n",
       "2016-01-08   600600  2144600  37192219   7749000  2148100  3436000  16594800   \n",
       "\n",
       "                     \n",
       "               ZION  \n",
       "Date                 \n",
       "2016-01-04  3523300  \n",
       "2016-01-05  2653600  \n",
       "2016-01-06  4164200  \n",
       "2016-01-07  4234000  \n",
       "2016-01-08  3401600  \n",
       "\n",
       "[5 rows x 150 columns]"
      ]
     },
     "execution_count": 2,
     "metadata": {},
     "output_type": "execute_result"
    }
   ],
   "source": [
    "data.head()"
   ]
  },
  {
   "cell_type": "code",
   "execution_count": 3,
   "metadata": {},
   "outputs": [
    {
     "ename": "ValueError",
     "evalue": "Length mismatch: Expected axis has 150 elements, new values have 25 elements",
     "output_type": "error",
     "traceback": [
      "\u001b[0;31m---------------------------------------------------------------------------\u001b[0m",
      "\u001b[0;31mValueError\u001b[0m                                Traceback (most recent call last)",
      "Cell \u001b[0;32mIn[3], line 2\u001b[0m\n\u001b[1;32m      1\u001b[0m \u001b[38;5;66;03m#data = data.loc[:,('Adj Close', slice(None))]\u001b[39;00m\n\u001b[0;32m----> 2\u001b[0m data\u001b[38;5;241m.\u001b[39mcolumns \u001b[38;5;241m=\u001b[39m assets\n\u001b[1;32m      3\u001b[0m data\u001b[38;5;241m.\u001b[39mhead()\n",
      "File \u001b[0;32m~/miniconda3/lib/python3.11/site-packages/pandas/core/generic.py:6002\u001b[0m, in \u001b[0;36mNDFrame.__setattr__\u001b[0;34m(self, name, value)\u001b[0m\n\u001b[1;32m   6000\u001b[0m \u001b[38;5;28;01mtry\u001b[39;00m:\n\u001b[1;32m   6001\u001b[0m     \u001b[38;5;28mobject\u001b[39m\u001b[38;5;241m.\u001b[39m\u001b[38;5;21m__getattribute__\u001b[39m(\u001b[38;5;28mself\u001b[39m, name)\n\u001b[0;32m-> 6002\u001b[0m     \u001b[38;5;28;01mreturn\u001b[39;00m \u001b[38;5;28mobject\u001b[39m\u001b[38;5;241m.\u001b[39m\u001b[38;5;21m__setattr__\u001b[39m(\u001b[38;5;28mself\u001b[39m, name, value)\n\u001b[1;32m   6003\u001b[0m \u001b[38;5;28;01mexcept\u001b[39;00m \u001b[38;5;167;01mAttributeError\u001b[39;00m:\n\u001b[1;32m   6004\u001b[0m     \u001b[38;5;28;01mpass\u001b[39;00m\n",
      "File \u001b[0;32m~/miniconda3/lib/python3.11/site-packages/pandas/_libs/properties.pyx:69\u001b[0m, in \u001b[0;36mpandas._libs.properties.AxisProperty.__set__\u001b[0;34m()\u001b[0m\n",
      "File \u001b[0;32m~/miniconda3/lib/python3.11/site-packages/pandas/core/generic.py:730\u001b[0m, in \u001b[0;36mNDFrame._set_axis\u001b[0;34m(self, axis, labels)\u001b[0m\n\u001b[1;32m    725\u001b[0m \u001b[38;5;250m\u001b[39m\u001b[38;5;124;03m\"\"\"\u001b[39;00m\n\u001b[1;32m    726\u001b[0m \u001b[38;5;124;03mThis is called from the cython code when we set the `index` attribute\u001b[39;00m\n\u001b[1;32m    727\u001b[0m \u001b[38;5;124;03mdirectly, e.g. `series.index = [1, 2, 3]`.\u001b[39;00m\n\u001b[1;32m    728\u001b[0m \u001b[38;5;124;03m\"\"\"\u001b[39;00m\n\u001b[1;32m    729\u001b[0m labels \u001b[38;5;241m=\u001b[39m ensure_index(labels)\n\u001b[0;32m--> 730\u001b[0m \u001b[38;5;28mself\u001b[39m\u001b[38;5;241m.\u001b[39m_mgr\u001b[38;5;241m.\u001b[39mset_axis(axis, labels)\n\u001b[1;32m    731\u001b[0m \u001b[38;5;28mself\u001b[39m\u001b[38;5;241m.\u001b[39m_clear_item_cache()\n",
      "File \u001b[0;32m~/miniconda3/lib/python3.11/site-packages/pandas/core/internals/managers.py:225\u001b[0m, in \u001b[0;36mBaseBlockManager.set_axis\u001b[0;34m(self, axis, new_labels)\u001b[0m\n\u001b[1;32m    223\u001b[0m \u001b[38;5;28;01mdef\u001b[39;00m \u001b[38;5;21mset_axis\u001b[39m(\u001b[38;5;28mself\u001b[39m, axis: AxisInt, new_labels: Index) \u001b[38;5;241m-\u001b[39m\u001b[38;5;241m>\u001b[39m \u001b[38;5;28;01mNone\u001b[39;00m:\n\u001b[1;32m    224\u001b[0m     \u001b[38;5;66;03m# Caller is responsible for ensuring we have an Index object.\u001b[39;00m\n\u001b[0;32m--> 225\u001b[0m     \u001b[38;5;28mself\u001b[39m\u001b[38;5;241m.\u001b[39m_validate_set_axis(axis, new_labels)\n\u001b[1;32m    226\u001b[0m     \u001b[38;5;28mself\u001b[39m\u001b[38;5;241m.\u001b[39maxes[axis] \u001b[38;5;241m=\u001b[39m new_labels\n",
      "File \u001b[0;32m~/miniconda3/lib/python3.11/site-packages/pandas/core/internals/base.py:70\u001b[0m, in \u001b[0;36mDataManager._validate_set_axis\u001b[0;34m(self, axis, new_labels)\u001b[0m\n\u001b[1;32m     67\u001b[0m     \u001b[38;5;28;01mpass\u001b[39;00m\n\u001b[1;32m     69\u001b[0m \u001b[38;5;28;01melif\u001b[39;00m new_len \u001b[38;5;241m!=\u001b[39m old_len:\n\u001b[0;32m---> 70\u001b[0m     \u001b[38;5;28;01mraise\u001b[39;00m \u001b[38;5;167;01mValueError\u001b[39;00m(\n\u001b[1;32m     71\u001b[0m         \u001b[38;5;124mf\u001b[39m\u001b[38;5;124m\"\u001b[39m\u001b[38;5;124mLength mismatch: Expected axis has \u001b[39m\u001b[38;5;132;01m{\u001b[39;00mold_len\u001b[38;5;132;01m}\u001b[39;00m\u001b[38;5;124m elements, new \u001b[39m\u001b[38;5;124m\"\u001b[39m\n\u001b[1;32m     72\u001b[0m         \u001b[38;5;124mf\u001b[39m\u001b[38;5;124m\"\u001b[39m\u001b[38;5;124mvalues have \u001b[39m\u001b[38;5;132;01m{\u001b[39;00mnew_len\u001b[38;5;132;01m}\u001b[39;00m\u001b[38;5;124m elements\u001b[39m\u001b[38;5;124m\"\u001b[39m\n\u001b[1;32m     73\u001b[0m     )\n",
      "\u001b[0;31mValueError\u001b[0m: Length mismatch: Expected axis has 150 elements, new values have 25 elements"
     ]
    }
   ],
   "source": [
    "#data = data.loc[:,('Adj Close', slice(None))]\n",
    "data.columns = assets\n",
    "data.head()"
   ]
  },
  {
   "cell_type": "code",
   "execution_count": 12,
   "metadata": {},
   "outputs": [
    {
     "data": {
      "text/html": [
       "<div>\n",
       "<style scoped>\n",
       "    .dataframe tbody tr th:only-of-type {\n",
       "        vertical-align: middle;\n",
       "    }\n",
       "\n",
       "    .dataframe tbody tr th {\n",
       "        vertical-align: top;\n",
       "    }\n",
       "\n",
       "    .dataframe thead th {\n",
       "        text-align: right;\n",
       "    }\n",
       "</style>\n",
       "<table border=\"1\" class=\"dataframe\">\n",
       "  <thead>\n",
       "    <tr style=\"text-align: right;\">\n",
       "      <th></th>\n",
       "      <th>APA</th>\n",
       "      <th>BA</th>\n",
       "      <th>BAX</th>\n",
       "      <th>BMY</th>\n",
       "      <th>CMCSA</th>\n",
       "      <th>CNP</th>\n",
       "      <th>CPB</th>\n",
       "      <th>DE</th>\n",
       "      <th>HPQ</th>\n",
       "      <th>JCI</th>\n",
       "      <th>...</th>\n",
       "      <th>NI</th>\n",
       "      <th>PCAR</th>\n",
       "      <th>PSA</th>\n",
       "      <th>SEE</th>\n",
       "      <th>T</th>\n",
       "      <th>TGT</th>\n",
       "      <th>TMO</th>\n",
       "      <th>TXT</th>\n",
       "      <th>VZ</th>\n",
       "      <th>ZION</th>\n",
       "    </tr>\n",
       "  </thead>\n",
       "  <tbody>\n",
       "    <tr>\n",
       "      <th>count</th>\n",
       "      <td>100400.0000%</td>\n",
       "      <td>100400.0000%</td>\n",
       "      <td>100400.0000%</td>\n",
       "      <td>100400.0000%</td>\n",
       "      <td>100400.0000%</td>\n",
       "      <td>100400.0000%</td>\n",
       "      <td>100400.0000%</td>\n",
       "      <td>100400.0000%</td>\n",
       "      <td>100400.0000%</td>\n",
       "      <td>100400.0000%</td>\n",
       "      <td>...</td>\n",
       "      <td>100400.0000%</td>\n",
       "      <td>100400.0000%</td>\n",
       "      <td>100400.0000%</td>\n",
       "      <td>100400.0000%</td>\n",
       "      <td>100400.0000%</td>\n",
       "      <td>100400.0000%</td>\n",
       "      <td>100400.0000%</td>\n",
       "      <td>100400.0000%</td>\n",
       "      <td>100400.0000%</td>\n",
       "      <td>100400.0000%</td>\n",
       "    </tr>\n",
       "    <tr>\n",
       "      <th>mean</th>\n",
       "      <td>3755.4034%</td>\n",
       "      <td>25366.1775%</td>\n",
       "      <td>5786.1248%</td>\n",
       "      <td>4750.7439%</td>\n",
       "      <td>3248.5982%</td>\n",
       "      <td>2225.5483%</td>\n",
       "      <td>4037.4575%</td>\n",
       "      <td>11887.3382%</td>\n",
       "      <td>1566.8274%</td>\n",
       "      <td>3338.2594%</td>\n",
       "      <td>...</td>\n",
       "      <td>2111.5921%</td>\n",
       "      <td>3521.9282%</td>\n",
       "      <td>17481.6464%</td>\n",
       "      <td>3985.3378%</td>\n",
       "      <td>1720.8885%</td>\n",
       "      <td>6534.0002%</td>\n",
       "      <td>20195.7283%</td>\n",
       "      <td>4963.0859%</td>\n",
       "      <td>3920.1023%</td>\n",
       "      <td>3631.0302%</td>\n",
       "    </tr>\n",
       "    <tr>\n",
       "      <th>std</th>\n",
       "      <td>957.4823%</td>\n",
       "      <td>9981.5591%</td>\n",
       "      <td>1378.7449%</td>\n",
       "      <td>531.4457%</td>\n",
       "      <td>457.6813%</td>\n",
       "      <td>338.1613%</td>\n",
       "      <td>660.4597%</td>\n",
       "      <td>3123.2331%</td>\n",
       "      <td>363.4049%</td>\n",
       "      <td>345.9446%</td>\n",
       "      <td>...</td>\n",
       "      <td>246.7568%</td>\n",
       "      <td>494.4644%</td>\n",
       "      <td>1576.5829%</td>\n",
       "      <td>307.2226%</td>\n",
       "      <td>150.8180%</td>\n",
       "      <td>1576.2380%</td>\n",
       "      <td>5290.2214%</td>\n",
       "      <td>918.8028%</td>\n",
       "      <td>497.4698%</td>\n",
       "      <td>842.1962%</td>\n",
       "    </tr>\n",
       "    <tr>\n",
       "      <th>min</th>\n",
       "      <td>1726.8820%</td>\n",
       "      <td>9815.2580%</td>\n",
       "      <td>3124.3542%</td>\n",
       "      <td>3734.8866%</td>\n",
       "      <td>2269.0857%</td>\n",
       "      <td>1288.5284%</td>\n",
       "      <td>2751.1234%</td>\n",
       "      <td>6276.3512%</td>\n",
       "      <td>705.8892%</td>\n",
       "      <td>2288.2580%</td>\n",
       "      <td>...</td>\n",
       "      <td>1522.4489%</td>\n",
       "      <td>2265.3322%</td>\n",
       "      <td>14266.8564%</td>\n",
       "      <td>2838.1889%</td>\n",
       "      <td>1383.6096%</td>\n",
       "      <td>4268.0889%</td>\n",
       "      <td>11931.8314%</td>\n",
       "      <td>3074.0116%</td>\n",
       "      <td>3023.8575%</td>\n",
       "      <td>1639.8048%</td>\n",
       "    </tr>\n",
       "    <tr>\n",
       "      <th>25%</th>\n",
       "      <td>3100.6968%</td>\n",
       "      <td>14600.6500%</td>\n",
       "      <td>4352.8180%</td>\n",
       "      <td>4363.2205%</td>\n",
       "      <td>2886.6277%</td>\n",
       "      <td>1984.7817%</td>\n",
       "      <td>3461.3801%</td>\n",
       "      <td>9297.0333%</td>\n",
       "      <td>1248.1797%</td>\n",
       "      <td>3101.4711%</td>\n",
       "      <td>...</td>\n",
       "      <td>1929.1356%</td>\n",
       "      <td>3225.0652%</td>\n",
       "      <td>16357.3910%</td>\n",
       "      <td>3870.0136%</td>\n",
       "      <td>1606.1481%</td>\n",
       "      <td>5568.8925%</td>\n",
       "      <td>15162.9807%</td>\n",
       "      <td>4473.8319%</td>\n",
       "      <td>3544.1298%</td>\n",
       "      <td>3367.7541%</td>\n",
       "    </tr>\n",
       "    <tr>\n",
       "      <th>50%</th>\n",
       "      <td>3811.5461%</td>\n",
       "      <td>28280.5405%</td>\n",
       "      <td>5930.1319%</td>\n",
       "      <td>4620.9625%</td>\n",
       "      <td>3227.8484%</td>\n",
       "      <td>2305.1235%</td>\n",
       "      <td>4058.2197%</td>\n",
       "      <td>12743.3338%</td>\n",
       "      <td>1651.7428%</td>\n",
       "      <td>3361.8620%</td>\n",
       "      <td>...</td>\n",
       "      <td>2109.6478%</td>\n",
       "      <td>3548.7583%</td>\n",
       "      <td>17055.9738%</td>\n",
       "      <td>4037.0434%</td>\n",
       "      <td>1709.3026%</td>\n",
       "      <td>6268.0880%</td>\n",
       "      <td>19356.0242%</td>\n",
       "      <td>4844.1656%</td>\n",
       "      <td>3739.0150%</td>\n",
       "      <td>3811.9028%</td>\n",
       "    </tr>\n",
       "    <tr>\n",
       "      <th>75%</th>\n",
       "      <td>4385.0766%</td>\n",
       "      <td>34313.8855%</td>\n",
       "      <td>6885.1187%</td>\n",
       "      <td>5148.0616%</td>\n",
       "      <td>3536.5561%</td>\n",
       "      <td>2453.5188%</td>\n",
       "      <td>4629.8973%</td>\n",
       "      <td>14591.4455%</td>\n",
       "      <td>1829.9702%</td>\n",
       "      <td>3570.3095%</td>\n",
       "      <td>...</td>\n",
       "      <td>2287.9787%</td>\n",
       "      <td>3849.9575%</td>\n",
       "      <td>18383.4023%</td>\n",
       "      <td>4177.9174%</td>\n",
       "      <td>1808.2037%</td>\n",
       "      <td>7131.8781%</td>\n",
       "      <td>23919.1883%</td>\n",
       "      <td>5432.0441%</td>\n",
       "      <td>4426.3721%</td>\n",
       "      <td>4279.2342%</td>\n",
       "    </tr>\n",
       "    <tr>\n",
       "      <th>max</th>\n",
       "      <td>5843.4975%</td>\n",
       "      <td>43029.9988%</td>\n",
       "      <td>8400.8842%</td>\n",
       "      <td>6153.3199%</td>\n",
       "      <td>4250.9697%</td>\n",
       "      <td>2745.8570%</td>\n",
       "      <td>5366.7110%</td>\n",
       "      <td>17027.5543%</td>\n",
       "      <td>2247.9944%</td>\n",
       "      <td>4046.0140%</td>\n",
       "      <td>...</td>\n",
       "      <td>2667.2598%</td>\n",
       "      <td>4822.4949%</td>\n",
       "      <td>22124.1959%</td>\n",
       "      <td>4693.5238%</td>\n",
       "      <td>2173.1615%</td>\n",
       "      <td>11973.8457%</td>\n",
       "      <td>32522.6349%</td>\n",
       "      <td>7176.5457%</td>\n",
       "      <td>5024.7284%</td>\n",
       "      <td>4961.4090%</td>\n",
       "    </tr>\n",
       "  </tbody>\n",
       "</table>\n",
       "<p>8 rows × 25 columns</p>\n",
       "</div>"
      ],
      "text/plain": [
       "               APA           BA          BAX          BMY        CMCSA  \\\n",
       "count 100400.0000% 100400.0000% 100400.0000% 100400.0000% 100400.0000%   \n",
       "mean    3755.4034%  25366.1775%   5786.1248%   4750.7439%   3248.5982%   \n",
       "std      957.4823%   9981.5591%   1378.7449%    531.4457%    457.6813%   \n",
       "min     1726.8820%   9815.2580%   3124.3542%   3734.8866%   2269.0857%   \n",
       "25%     3100.6968%  14600.6500%   4352.8180%   4363.2205%   2886.6277%   \n",
       "50%     3811.5461%  28280.5405%   5930.1319%   4620.9625%   3227.8484%   \n",
       "75%     4385.0766%  34313.8855%   6885.1187%   5148.0616%   3536.5561%   \n",
       "max     5843.4975%  43029.9988%   8400.8842%   6153.3199%   4250.9697%   \n",
       "\n",
       "               CNP          CPB           DE          HPQ          JCI  ...  \\\n",
       "count 100400.0000% 100400.0000% 100400.0000% 100400.0000% 100400.0000%  ...   \n",
       "mean    2225.5483%   4037.4575%  11887.3382%   1566.8274%   3338.2594%  ...   \n",
       "std      338.1613%    660.4597%   3123.2331%    363.4049%    345.9446%  ...   \n",
       "min     1288.5284%   2751.1234%   6276.3512%    705.8892%   2288.2580%  ...   \n",
       "25%     1984.7817%   3461.3801%   9297.0333%   1248.1797%   3101.4711%  ...   \n",
       "50%     2305.1235%   4058.2197%  12743.3338%   1651.7428%   3361.8620%  ...   \n",
       "75%     2453.5188%   4629.8973%  14591.4455%   1829.9702%   3570.3095%  ...   \n",
       "max     2745.8570%   5366.7110%  17027.5543%   2247.9944%   4046.0140%  ...   \n",
       "\n",
       "                NI         PCAR          PSA          SEE            T  \\\n",
       "count 100400.0000% 100400.0000% 100400.0000% 100400.0000% 100400.0000%   \n",
       "mean    2111.5921%   3521.9282%  17481.6464%   3985.3378%   1720.8885%   \n",
       "std      246.7568%    494.4644%   1576.5829%    307.2226%    150.8180%   \n",
       "min     1522.4489%   2265.3322%  14266.8564%   2838.1889%   1383.6096%   \n",
       "25%     1929.1356%   3225.0652%  16357.3910%   3870.0136%   1606.1481%   \n",
       "50%     2109.6478%   3548.7583%  17055.9738%   4037.0434%   1709.3026%   \n",
       "75%     2287.9787%   3849.9575%  18383.4023%   4177.9174%   1808.2037%   \n",
       "max     2667.2598%   4822.4949%  22124.1959%   4693.5238%   2173.1615%   \n",
       "\n",
       "               TGT          TMO          TXT           VZ         ZION  \n",
       "count 100400.0000% 100400.0000% 100400.0000% 100400.0000% 100400.0000%  \n",
       "mean    6534.0002%  20195.7283%   4963.0859%   3920.1023%   3631.0302%  \n",
       "std     1576.2380%   5290.2214%    918.8028%    497.4698%    842.1962%  \n",
       "min     4268.0889%  11931.8314%   3074.0116%   3023.8575%   1639.8048%  \n",
       "25%     5568.8925%  15162.9807%   4473.8319%   3544.1298%   3367.7541%  \n",
       "50%     6268.0880%  19356.0242%   4844.1656%   3739.0150%   3811.9028%  \n",
       "75%     7131.8781%  23919.1883%   5432.0441%   4426.3721%   4279.2342%  \n",
       "max    11973.8457%  32522.6349%   7176.5457%   5024.7284%   4961.4090%  \n",
       "\n",
       "[8 rows x 25 columns]"
      ]
     },
     "execution_count": 12,
     "metadata": {},
     "output_type": "execute_result"
    }
   ],
   "source": [
    "data.describe()"
   ]
  },
  {
   "cell_type": "code",
   "execution_count": 13,
   "metadata": {},
   "outputs": [
    {
     "ename": "NameError",
     "evalue": "name 'Y' is not defined",
     "output_type": "error",
     "traceback": [
      "\u001b[0;31m---------------------------------------------------------------------------\u001b[0m",
      "\u001b[0;31mNameError\u001b[0m                                 Traceback (most recent call last)",
      "\u001b[1;32m/Users/jordivilla/GitHub/Classes/Data-Science-with-Python/code/riskfolio.ipynb Cell 6\u001b[0m line \u001b[0;36m1\n\u001b[1;32m      <a href='vscode-notebook-cell:/Users/jordivilla/GitHub/Classes/Data-Science-with-Python/code/riskfolio.ipynb#W1sZmlsZQ%3D%3D?line=7'>8</a>\u001b[0m j \u001b[39m=\u001b[39m \u001b[39m0\u001b[39m\n\u001b[1;32m      <a href='vscode-notebook-cell:/Users/jordivilla/GitHub/Classes/Data-Science-with-Python/code/riskfolio.ipynb#W1sZmlsZQ%3D%3D?line=8'>9</a>\u001b[0m \u001b[39mfor\u001b[39;00m i \u001b[39min\u001b[39;00m linkages:\n\u001b[0;32m---> <a href='vscode-notebook-cell:/Users/jordivilla/GitHub/Classes/Data-Science-with-Python/code/riskfolio.ipynb#W1sZmlsZQ%3D%3D?line=9'>10</a>\u001b[0m     ax[j] \u001b[39m=\u001b[39m rp\u001b[39m.\u001b[39mplot_dendrogram(returns\u001b[39m=\u001b[39mY,\n\u001b[1;32m     <a href='vscode-notebook-cell:/Users/jordivilla/GitHub/Classes/Data-Science-with-Python/code/riskfolio.ipynb#W1sZmlsZQ%3D%3D?line=10'>11</a>\u001b[0m                                codependence\u001b[39m=\u001b[39m\u001b[39m'\u001b[39m\u001b[39mpearson\u001b[39m\u001b[39m'\u001b[39m,\n\u001b[1;32m     <a href='vscode-notebook-cell:/Users/jordivilla/GitHub/Classes/Data-Science-with-Python/code/riskfolio.ipynb#W1sZmlsZQ%3D%3D?line=11'>12</a>\u001b[0m                                linkage\u001b[39m=\u001b[39mi,\n\u001b[1;32m     <a href='vscode-notebook-cell:/Users/jordivilla/GitHub/Classes/Data-Science-with-Python/code/riskfolio.ipynb#W1sZmlsZQ%3D%3D?line=12'>13</a>\u001b[0m                                k\u001b[39m=\u001b[39m\u001b[39mNone\u001b[39;00m,\n\u001b[1;32m     <a href='vscode-notebook-cell:/Users/jordivilla/GitHub/Classes/Data-Science-with-Python/code/riskfolio.ipynb#W1sZmlsZQ%3D%3D?line=13'>14</a>\u001b[0m                                max_k\u001b[39m=\u001b[39m\u001b[39m10\u001b[39m,\n\u001b[1;32m     <a href='vscode-notebook-cell:/Users/jordivilla/GitHub/Classes/Data-Science-with-Python/code/riskfolio.ipynb#W1sZmlsZQ%3D%3D?line=14'>15</a>\u001b[0m                                leaf_order\u001b[39m=\u001b[39m\u001b[39mTrue\u001b[39;00m,\n\u001b[1;32m     <a href='vscode-notebook-cell:/Users/jordivilla/GitHub/Classes/Data-Science-with-Python/code/riskfolio.ipynb#W1sZmlsZQ%3D%3D?line=15'>16</a>\u001b[0m                                ax\u001b[39m=\u001b[39max[j])\n\u001b[1;32m     <a href='vscode-notebook-cell:/Users/jordivilla/GitHub/Classes/Data-Science-with-Python/code/riskfolio.ipynb#W1sZmlsZQ%3D%3D?line=16'>17</a>\u001b[0m     j \u001b[39m+\u001b[39m\u001b[39m=\u001b[39m \u001b[39m1\u001b[39m\n\u001b[1;32m     <a href='vscode-notebook-cell:/Users/jordivilla/GitHub/Classes/Data-Science-with-Python/code/riskfolio.ipynb#W1sZmlsZQ%3D%3D?line=18'>19</a>\u001b[0m plt\u001b[39m.\u001b[39mplot()\n",
      "\u001b[0;31mNameError\u001b[0m: name 'Y' is not defined"
     ]
    },
    {
     "data": {
      "image/png": "[encoded data removed]",
      "text/plain": [
       "<Figure size 1200x3000 with 8 Axes>"
      ]
     },
     "metadata": {},
     "output_type": "display_data"
    }
   ],
   "source": [
    "import matplotlib.pyplot as plt\n",
    "import riskfolio as rp\n",
    "# Comparison of several linkages methods\n",
    "linkages = ['single','complete','average','weighted',\n",
    "            'centroid', 'median', 'ward','DBHT']\n",
    "fig, ax = plt.subplots(len(linkages), 1, figsize=(12, 30))\n",
    "ax = np.ravel(ax)\n",
    "j = 0\n",
    "for i in linkages:\n",
    "    ax[j] = rp.plot_dendrogram(returns=Y,\n",
    "                               codependence='pearson',\n",
    "                               linkage=i,\n",
    "                               k=None,\n",
    "                               max_k=10,\n",
    "                               leaf_order=True,\n",
    "                               ax=ax[j])\n",
    "    j += 1\n",
    "    \n",
    "plt.plot()"
   ]
  },
  {
   "cell_type": "code",
   "execution_count": null,
   "metadata": {},
   "outputs": [],
   "source": [
    "# Comparison of two network graphs\n",
    "linkages = ['ward','DBHT']\n",
    "fig, ax = plt.subplots(len(linkages), 1, figsize=(12, 15))\n",
    "ax = np.ravel(ax)\n",
    "j = 0\n",
    "for i in linkages:\n",
    "    ax[j] = rp.plot_network(returns=Y,\n",
    "                            codependence=\"pearson\",\n",
    "                            linkage=i,\n",
    "                            k=None,\n",
    "                            max_k=10,\n",
    "                            leaf_order=True,\n",
    "                            kind='spring',\n",
    "                            seed=0,\n",
    "                            ax=ax[j])\n",
    "    j += 1\n",
    "    \n",
    "plt.plot()"
   ]
  },
  {
   "cell_type": "code",
   "execution_count": null,
   "metadata": {},
   "outputs": [],
   "source": [
    "# Comparison of several network layouts\n",
    "kinds =['spring','kamada','planar','circular']\n",
    "fig, ax = plt.subplots(len(kinds), 1, figsize=(12, 30))\n",
    "ax = np.ravel(ax)\n",
    "j = 0\n",
    "for i in kinds:\n",
    "    ax[j] = rp.plot_network(returns=Y,\n",
    "                            codependence=\"pearson\",\n",
    "                            linkage=\"DBHT\",\n",
    "                            k=None,\n",
    "                            max_k=10,\n",
    "                            leaf_order=True,\n",
    "                            kind=i,\n",
    "                            seed=0,\n",
    "                            ax=ax[j])\n",
    "    j += 1\n",
    "    \n",
    "plt.plot()"
   ]
  },
  {
   "cell_type": "code",
   "execution_count": null,
   "metadata": {},
   "outputs": [],
   "source": [
    "# Getting components of each cluster\n",
    "clusters = rp.assets_clusters(returns=Y,\n",
    "                              codependence='pearson',\n",
    "                              linkage='DBHT',\n",
    "                              k=None,\n",
    "                              max_k=10,\n",
    "                              leaf_order=True)\n",
    "display(clusters.sort_values(by='Clusters'))"
   ]
  }
 ],
 "metadata": {
  "kernelspec": {
   "display_name": "base",
   "language": "python",
   "name": "python3"
  },
  "language_info": {
   "codemirror_mode": {
    "name": "ipython",
    "version": 3
   },
   "file_extension": ".py",
   "mimetype": "text/x-python",
   "name": "python",
   "nbconvert_exporter": "python",
   "pygments_lexer": "ipython3",
   "version": "3.11.5"
  }
 },
 "nbformat": 4,
 "nbformat_minor": 2
}