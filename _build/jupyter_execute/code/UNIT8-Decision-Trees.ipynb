{
 "cells": [
  {
   "cell_type": "markdown",
   "metadata": {},
   "source": [
    "# UNIT 8. Decision Tres\n",
    "\n",
    "This Unit includes main introduction to decision trees, strongly based in {cite:p}`kroese2020`."
   ]
  },
  {
   "cell_type": "markdown",
   "metadata": {},
   "source": [
    "## Cross-validation loss as a function of three depth\n",
    "\n",
    "We start by seeing how `sklearn` builds the typical behavior of the cross-validation loss as a function of the tree depth. The cross-validation is an estimate of the expected generalization risk. Complicated trees tend to overfit the training data by producing many divisions of the feature space, as occurs with most learning methods."
   ]
  },
  {
   "cell_type": "code",
   "execution_count": 1,
   "metadata": {},
   "outputs": [
    {
     "data": {
      "text/plain": [
       "[<matplotlib.lines.Line2D at 0x1222b3c10>]"
      ]
     },
     "execution_count": 1,
     "metadata": {},
     "output_type": "execute_result"
    },
    {
     "data": {
      "image/png": "[encoded data removed]",
      "text/plain": [
       "<Figure size 640x480 with 1 Axes>"
      ]
     },
     "metadata": {},
     "output_type": "display_data"
    }
   ],
   "source": [
    "\"\"\" TreeDepthCV.py \"\"\"\n",
    "import numpy as np\n",
    "from sklearn.datasets import make_blobs\n",
    "from sklearn.model_selection import cross_val_score\n",
    "from sklearn.tree import DecisionTreeClassifier\n",
    "from sklearn.metrics import zero_one_loss\n",
    "import matplotlib.pyplot as plt\n",
    "\n",
    "def ZeroOneScore(clf, X, y):\n",
    "    y_pred = clf.predict(X)\n",
    "    return zero_one_loss(y, y_pred)\n",
    "\n",
    "\n",
    "# Construct the training set \n",
    "X, y =  make_blobs(n_samples=5000, n_features=10, centers=3,\n",
    "                           random_state=10, cluster_std=10)\n",
    "    \n",
    "# construct a decision tree classifier  \n",
    "clf = DecisionTreeClassifier(random_state=0)\n",
    "\n",
    "# cross validation loss as a function of tree depth (1 to 30)\n",
    "xdepthlist = []\n",
    "cvlist = []\n",
    "tree_depth = range(1,30)\n",
    "for d in tree_depth:\n",
    "    xdepthlist.append(d)\n",
    "    clf.max_depth=d\n",
    "    cv = np.mean(cross_val_score(clf, X, y, cv=10, scoring=ZeroOneScore))\n",
    "    cvlist.append(cv)\n",
    "    \n",
    "plt.xlabel('tree depth', fontsize=18, color='black')\n",
    "plt.ylabel('loss', fontsize=18, color='black')\n",
    "plt.plot(xdepthlist, cvlist,'-*' , linewidth=0.5)"
   ]
  },
  {
   "cell_type": "markdown",
   "metadata": {},
   "source": [
    "## Basic step-by-step implementation\n",
    "\n",
    "First, we import packages and define a function to generate the training and test data"
   ]
  },
  {
   "cell_type": "code",
   "execution_count": 2,
   "metadata": {},
   "outputs": [],
   "source": [
    "\"\"\" BasicTree.py \"\"\"\n",
    "import numpy as np\n",
    "from sklearn.datasets import make_friedman1\n",
    "from sklearn.model_selection import train_test_split\n",
    "\n",
    "def makedata():\n",
    "  n_points = 500 # points\n",
    " \n",
    "  X, y =  make_friedman1(n_samples=n_points, n_features=5, \n",
    "                         noise=1.0, random_state=100)\n",
    "         \n",
    "  return train_test_split(X, y, test_size=0.5, random_state=3)\n",
    "  \n"
   ]
  },
  {
   "cell_type": "markdown",
   "metadata": {},
   "source": [
    "now we define the main method, which calls the `makedata` method, uses the training data to build a regression tree and then predicts the responses, reporting the mean squared-error loss:"
   ]
  },
  {
   "cell_type": "code",
   "execution_count": 3,
   "metadata": {},
   "outputs": [],
   "source": [
    " \n",
    "def main():\n",
    "  X_train, X_test, y_train, y_test = makedata()    \n",
    "  maxdepth = 10 # maximum tree depth             \n",
    "  # Create tree root at depth 0                       \n",
    "  treeRoot = TNode(0, X_train,y_train) \n",
    "       \n",
    "  # Build the regression tree with maximal depth equal to max_depth\n",
    "  Construct_Subtree(treeRoot, maxdepth) \n",
    "    \n",
    "  # Predict\n",
    "  y_hat = np.zeros(len(X_test))\n",
    "  for i in range(len(X_test)):\n",
    "     y_hat[i] = Predict(X_test[i],treeRoot)          \n",
    "    \n",
    "  MSE = np.mean(np.power(y_hat - y_test,2))    \n",
    "  print(\"Basic tree: tree loss = \",  MSE)\n"
   ]
  },
  {
   "cell_type": "markdown",
   "metadata": {},
   "source": [
    "Let us specify a tree node as a Python class. Each node has a number of attributes, including features ($X$) and the response ($y$) data, as well as the depth at which the node is placed in the tree. "
   ]
  },
  {
   "cell_type": "code",
   "execution_count": 4,
   "metadata": {},
   "outputs": [],
   "source": [
    "\n",
    "# tree node\n",
    "class TNode:\n",
    "   def __init__(self, depth, X, y): \n",
    "      self.depth = depth\n",
    "      self.X = X   # matrix of explanatory variables\n",
    "      self.y = y   # vector of response variables\n",
    "      # initialize optimal split parameters\n",
    "      self.j = None\n",
    "      self.xi = None\n",
    "      # initialize children to be None      \n",
    "      self.left = None\n",
    "      self.right = None\n",
    "      # initialize the regional predictor\n",
    "      self.g = None\n",
    "      \n",
    "   def CalculateLoss(self):\n",
    "       if(len(self.y)==0):\n",
    "           return 0\n",
    "       \n",
    "       return np.sum(np.power(self.y- self.y.mean(),2))\n",
    "                    \n"
   ]
  },
  {
   "cell_type": "markdown",
   "metadata": {},
   "source": [
    "Implementation of the training algorithm"
   ]
  },
  {
   "cell_type": "code",
   "execution_count": 5,
   "metadata": {},
   "outputs": [],
   "source": [
    "  \n",
    "def Construct_Subtree(node, max_depth):  \n",
    "    if(node.depth == max_depth or len(node.y) == 1):\n",
    "        node.g  = node.y.mean()\n",
    "    else:\n",
    "        j, xi = CalculateOptimalSplit(node)               \n",
    "        node.j = j\n",
    "        node.xi = xi\n",
    "        Xt, yt, Xf, yf = DataSplit(node.X, node.y, j, xi)\n",
    "              \n",
    "        if(len(yt)>0):\n",
    "            node.left = TNode(node.depth+1,Xt,yt)\n",
    "            Construct_Subtree(node.left, max_depth)\n",
    "        \n",
    "        if(len(yf)>0):        \n",
    "            node.right = TNode(node.depth+1, Xf,yf)\n",
    "            Construct_Subtree(node.right, max_depth)      \n",
    "     \n",
    "    return node\n"
   ]
  },
  {
   "cell_type": "markdown",
   "metadata": {},
   "source": [
    "to run such algorithm, we need to implement the `CalculateOptinmalSplit` function, and the `DataSplit` function in ones and zeros."
   ]
  },
  {
   "cell_type": "code",
   "execution_count": 6,
   "metadata": {},
   "outputs": [],
   "source": [
    "# split the data-set\n",
    "def DataSplit(X,y,j,xi):\n",
    "    ids = X[:,j]<=xi      \n",
    "    Xt  = X[ids == True,:]\n",
    "    Xf  = X[ids == False,:]\n",
    "    yt  = y[ids == True]\n",
    "    yf  = y[ids == False]\n",
    "    return Xt, yt, Xf, yf             \n",
    "\n",
    "def CalculateOptimalSplit(node):\n",
    "    X = node.X\n",
    "    y = node.y\n",
    "    best_var = 0\n",
    "    best_xi = X[0,best_var]          \n",
    "    best_split_val = node.CalculateLoss()\n",
    "    \n",
    "    m, n  = X.shape\n",
    "    \n",
    "    for j in range(0,n):\n",
    "        for i in range(0,m):\n",
    "            xi = X[i,j]\n",
    "            Xt, yt, Xf, yf = DataSplit(X,y,j,xi)\n",
    "            tmpt = TNode(0, Xt, yt) \n",
    "            tmpf = TNode(0, Xf, yf) \n",
    "            loss_t = tmpt.CalculateLoss()\n",
    "            loss_f = tmpf.CalculateLoss()    \n",
    "            curr_val =  loss_t + loss_f\n",
    "            if (curr_val < best_split_val):\n",
    "                best_split_val = curr_val\n",
    "                best_var = j\n",
    "                best_xi = xi\n",
    "    return best_var,  best_xi\n"
   ]
  },
  {
   "cell_type": "markdown",
   "metadata": {},
   "source": [
    "Finally, we implement the recursive method for prediction"
   ]
  },
  {
   "cell_type": "code",
   "execution_count": 7,
   "metadata": {},
   "outputs": [],
   "source": [
    "def Predict(X,node):\n",
    "    if(node.right == None and node.left != None):\n",
    "        return Predict(X,node.left)\n",
    "    \n",
    "    if(node.right != None and node.left == None):\n",
    "        return Predict(X,node.right)\n",
    "    \n",
    "    if(node.right == None and node.left == None):\n",
    "        return node.g\n",
    "    else:\n",
    "        if(X[node.j] <= node.xi):\n",
    "            return Predict(X,node.left)\n",
    "        else:\n",
    "            return Predict(X,node.right)\n",
    "    \n"
   ]
  },
  {
   "cell_type": "markdown",
   "metadata": {},
   "source": [
    "we are now ready to run the main function providing a similar result to the `sklearn` implementation above"
   ]
  },
  {
   "cell_type": "code",
   "execution_count": 8,
   "metadata": {},
   "outputs": [
    {
     "name": "stdout",
     "output_type": "stream",
     "text": [
      "Basic tree: tree loss =  9.067077996170276\n",
      "DecisionTreeRegressor: tree loss =  10.19925448488538\n"
     ]
    }
   ],
   "source": [
    "main()  # run the main program\n",
    "\n",
    "# compare with sklearn\n",
    "from sklearn.tree import DecisionTreeRegressor\n",
    "X_train, X_test, y_train, y_test = makedata()    \n",
    "regTree = DecisionTreeRegressor(max_depth = 10, random_state=0)\n",
    "regTree.fit(X_train,y_train)\n",
    "y_hat = regTree.predict(X_test)\n",
    "MSE2 = np.mean(np.power(y_hat - y_test,2))    \n",
    "print(\"DecisionTreeRegressor: tree loss = \",  MSE2)    "
   ]
  },
  {
   "cell_type": "markdown",
   "metadata": {},
   "source": [
    "## Bootstrap Aggregation or *bagging*\n",
    "\n",
    "Basic bagging implementation for a regression tree, in which we compare the decision tree estimator with the corresponding bagged estimator. We use the $R^2$ metric as a comparison."
   ]
  },
  {
   "cell_type": "code",
   "execution_count": 9,
   "metadata": {},
   "outputs": [
    {
     "ename": "KeyboardInterrupt",
     "evalue": "",
     "output_type": "error",
     "traceback": [
      "\u001b[0;31m---------------------------------------------------------------------------\u001b[0m",
      "\u001b[0;31mKeyboardInterrupt\u001b[0m                         Traceback (most recent call last)",
      "Cell \u001b[0;32mIn[9], line 54\u001b[0m\n\u001b[1;32m     52\u001b[0m C \u001b[38;5;241m=\u001b[39m []\n\u001b[1;32m     53\u001b[0m \u001b[38;5;28;01mfor\u001b[39;00m b \u001b[38;5;129;01min\u001b[39;00m \u001b[38;5;28mrange\u001b[39m(n_estimators):\n\u001b[0;32m---> 54\u001b[0m     \u001b[38;5;28;01mif\u001b[39;00m(np\u001b[38;5;241m.\u001b[39misin(i, bootstrap_ds_arr[b])\u001b[38;5;241m==\u001b[39m\u001b[38;5;28;01mFalse\u001b[39;00m):\n\u001b[1;32m     55\u001b[0m         C\u001b[38;5;241m.\u001b[39mappend(b)\n\u001b[1;32m     56\u001b[0m \u001b[38;5;28;01mfor\u001b[39;00m pred \u001b[38;5;129;01min\u001b[39;00m  bag[C]:    \n",
      "File \u001b[0;32m~/miniconda3/lib/python3.11/site-packages/numpy/lib/arraysetops.py:890\u001b[0m, in \u001b[0;36misin\u001b[0;34m(element, test_elements, assume_unique, invert, kind)\u001b[0m\n\u001b[1;32m    769\u001b[0m \u001b[38;5;250m\u001b[39m\u001b[38;5;124;03m\"\"\"\u001b[39;00m\n\u001b[1;32m    770\u001b[0m \u001b[38;5;124;03mCalculates ``element in test_elements``, broadcasting over `element` only.\u001b[39;00m\n\u001b[1;32m    771\u001b[0m \u001b[38;5;124;03mReturns a boolean array of the same shape as `element` that is True\u001b[39;00m\n\u001b[0;32m   (...)\u001b[0m\n\u001b[1;32m    887\u001b[0m \u001b[38;5;124;03m       [ True, False]])\u001b[39;00m\n\u001b[1;32m    888\u001b[0m \u001b[38;5;124;03m\"\"\"\u001b[39;00m\n\u001b[1;32m    889\u001b[0m element \u001b[38;5;241m=\u001b[39m np\u001b[38;5;241m.\u001b[39masarray(element)\n\u001b[0;32m--> 890\u001b[0m \u001b[38;5;28;01mreturn\u001b[39;00m in1d(element, test_elements, assume_unique\u001b[38;5;241m=\u001b[39massume_unique,\n\u001b[1;32m    891\u001b[0m             invert\u001b[38;5;241m=\u001b[39minvert, kind\u001b[38;5;241m=\u001b[39mkind)\u001b[38;5;241m.\u001b[39mreshape(element\u001b[38;5;241m.\u001b[39mshape)\n",
      "File \u001b[0;32m~/miniconda3/lib/python3.11/site-packages/numpy/lib/arraysetops.py:647\u001b[0m, in \u001b[0;36min1d\u001b[0;34m(ar1, ar2, assume_unique, invert, kind)\u001b[0m\n\u001b[1;32m    644\u001b[0m     ar2 \u001b[38;5;241m=\u001b[39m ar2\u001b[38;5;241m.\u001b[39mastype(np\u001b[38;5;241m.\u001b[39muint8)\n\u001b[1;32m    646\u001b[0m ar2_min \u001b[38;5;241m=\u001b[39m np\u001b[38;5;241m.\u001b[39mmin(ar2)\n\u001b[0;32m--> 647\u001b[0m ar2_max \u001b[38;5;241m=\u001b[39m np\u001b[38;5;241m.\u001b[39mmax(ar2)\n\u001b[1;32m    649\u001b[0m ar2_range \u001b[38;5;241m=\u001b[39m \u001b[38;5;28mint\u001b[39m(ar2_max) \u001b[38;5;241m-\u001b[39m \u001b[38;5;28mint\u001b[39m(ar2_min)\n\u001b[1;32m    651\u001b[0m \u001b[38;5;66;03m# Constraints on whether we can actually use the table method:\u001b[39;00m\n\u001b[1;32m    652\u001b[0m \u001b[38;5;66;03m#  1. Assert memory usage is not too large\u001b[39;00m\n",
      "File \u001b[0;32m~/miniconda3/lib/python3.11/site-packages/numpy/core/fromnumeric.py:2810\u001b[0m, in \u001b[0;36mmax\u001b[0;34m(a, axis, out, keepdims, initial, where)\u001b[0m\n\u001b[1;32m   2692\u001b[0m \u001b[38;5;129m@array_function_dispatch\u001b[39m(_max_dispatcher)\n\u001b[1;32m   2693\u001b[0m \u001b[38;5;129m@set_module\u001b[39m(\u001b[38;5;124m'\u001b[39m\u001b[38;5;124mnumpy\u001b[39m\u001b[38;5;124m'\u001b[39m)\n\u001b[1;32m   2694\u001b[0m \u001b[38;5;28;01mdef\u001b[39;00m \u001b[38;5;21mmax\u001b[39m(a, axis\u001b[38;5;241m=\u001b[39m\u001b[38;5;28;01mNone\u001b[39;00m, out\u001b[38;5;241m=\u001b[39m\u001b[38;5;28;01mNone\u001b[39;00m, keepdims\u001b[38;5;241m=\u001b[39mnp\u001b[38;5;241m.\u001b[39m_NoValue, initial\u001b[38;5;241m=\u001b[39mnp\u001b[38;5;241m.\u001b[39m_NoValue,\n\u001b[1;32m   2695\u001b[0m          where\u001b[38;5;241m=\u001b[39mnp\u001b[38;5;241m.\u001b[39m_NoValue):\n\u001b[1;32m   2696\u001b[0m \u001b[38;5;250m    \u001b[39m\u001b[38;5;124;03m\"\"\"\u001b[39;00m\n\u001b[1;32m   2697\u001b[0m \u001b[38;5;124;03m    Return the maximum of an array or maximum along an axis.\u001b[39;00m\n\u001b[1;32m   2698\u001b[0m \n\u001b[0;32m   (...)\u001b[0m\n\u001b[1;32m   2808\u001b[0m \u001b[38;5;124;03m    5\u001b[39;00m\n\u001b[1;32m   2809\u001b[0m \u001b[38;5;124;03m    \"\"\"\u001b[39;00m\n\u001b[0;32m-> 2810\u001b[0m     \u001b[38;5;28;01mreturn\u001b[39;00m _wrapreduction(a, np\u001b[38;5;241m.\u001b[39mmaximum, \u001b[38;5;124m'\u001b[39m\u001b[38;5;124mmax\u001b[39m\u001b[38;5;124m'\u001b[39m, axis, \u001b[38;5;28;01mNone\u001b[39;00m, out,\n\u001b[1;32m   2811\u001b[0m                           keepdims\u001b[38;5;241m=\u001b[39mkeepdims, initial\u001b[38;5;241m=\u001b[39minitial, where\u001b[38;5;241m=\u001b[39mwhere)\n",
      "File \u001b[0;32m~/miniconda3/lib/python3.11/site-packages/numpy/core/fromnumeric.py:88\u001b[0m, in \u001b[0;36m_wrapreduction\u001b[0;34m(obj, ufunc, method, axis, dtype, out, **kwargs)\u001b[0m\n\u001b[1;32m     85\u001b[0m         \u001b[38;5;28;01melse\u001b[39;00m:\n\u001b[1;32m     86\u001b[0m             \u001b[38;5;28;01mreturn\u001b[39;00m reduction(axis\u001b[38;5;241m=\u001b[39maxis, out\u001b[38;5;241m=\u001b[39mout, \u001b[38;5;241m*\u001b[39m\u001b[38;5;241m*\u001b[39mpasskwargs)\n\u001b[0;32m---> 88\u001b[0m \u001b[38;5;28;01mreturn\u001b[39;00m ufunc\u001b[38;5;241m.\u001b[39mreduce(obj, axis, dtype, out, \u001b[38;5;241m*\u001b[39m\u001b[38;5;241m*\u001b[39mpasskwargs)\n",
      "\u001b[0;31mKeyboardInterrupt\u001b[0m: "
     ]
    }
   ],
   "source": [
    "\"\"\" BaggingExample \"\"\"\n",
    "import numpy as np\n",
    "from sklearn.datasets import make_friedman1\n",
    "from sklearn.tree import DecisionTreeRegressor\n",
    "from sklearn.model_selection import train_test_split\n",
    "from sklearn.metrics import r2_score\n",
    "\n",
    "np.random.seed(100)\n",
    "\n",
    "# create regression problem\n",
    "n_points = 1000 # points\n",
    "x, y =  make_friedman1(n_samples=n_points, n_features=15, \n",
    "                       noise=1.0, random_state=100)\n",
    "\n",
    "# split to train/test set\n",
    "x_train, x_test, y_train, y_test = \\\n",
    "        train_test_split(x, y, test_size=0.33, random_state=100)\n",
    "\n",
    "# training\n",
    "regTree = DecisionTreeRegressor(random_state=100)\n",
    "regTree.fit(x_train,y_train)\n",
    "\n",
    "# test\n",
    "yhat = regTree.predict(x_test)\n",
    "\n",
    "# Bagging construction\n",
    "n_estimators=500\n",
    "bag = np.empty((n_estimators), dtype=object)\n",
    "bootstrap_ds_arr = np.empty((n_estimators), dtype=object)\n",
    "for i in range(n_estimators):\n",
    "    # sample bootsraped dataset\n",
    "    ids = np.random.choice(range(0,len(x_train)),size=len(x_train), replace=True)\n",
    "\n",
    "    x_boot = x_train[ids]\n",
    "    y_boot = y_train[ids]\n",
    "    bootstrap_ds_arr[i] = np.unique(ids)\n",
    "    \n",
    "    bag[i] = DecisionTreeRegressor()\n",
    "    bag[i].fit(x_boot,y_boot)\n",
    "\n",
    "# bagging prediction\n",
    "yhatbag = np.zeros(len(y_test))   \n",
    "for i in range(n_estimators): \n",
    "    yhatbag = yhatbag + bag[i].predict(x_test)\n",
    "        \n",
    "yhatbag = yhatbag/n_estimators\n",
    "\n",
    "# out of bag loss estimation\n",
    "oob_pred_arr = np.zeros(len(x_train))\n",
    "for i in range(len(x_train)):\n",
    "    x = x_train[i].reshape(1, -1)\n",
    "    C = []\n",
    "    for b in range(n_estimators):\n",
    "        if(np.isin(i, bootstrap_ds_arr[b])==False):\n",
    "            C.append(b)\n",
    "    for pred in  bag[C]:    \n",
    "        oob_pred_arr[i] = oob_pred_arr[i] + (pred.predict(x)[0]/len(C))        \n",
    "\n",
    "L_oob = r2_score(y_train, oob_pred_arr)\n",
    "\n",
    "print(\"DecisionTreeRegressor R^2 score = \",r2_score(y_test, yhat),  \n",
    "      \"\\nBagging R^2 score = \", r2_score(y_test, yhatbag),\n",
    "      \"\\nBagging OOB R^2 score = \",L_oob)"
   ]
  },
  {
   "cell_type": "markdown",
   "metadata": {},
   "source": [
    "```{bibliography}\n",
    ":style: unsrt\n",
    "```"
   ]
  },
  {
   "cell_type": "markdown",
   "metadata": {},
   "source": [
    "## Random Forests"
   ]
  },
  {
   "cell_type": "code",
   "execution_count": 21,
   "metadata": {},
   "outputs": [
    {
     "name": "stdout",
     "output_type": "stream",
     "text": [
      "RF R^2 score =  0.8098090303200098 \n",
      "RF OOB R^2 score =  0.8254263172303116\n"
     ]
    }
   ],
   "source": [
    "\"\"\" BaggingExampleRF.py \"\"\"\n",
    "from sklearn.datasets import make_friedman1\n",
    "from sklearn.model_selection import train_test_split\n",
    "from sklearn.metrics import r2_score\n",
    "from sklearn.ensemble import RandomForestRegressor\n",
    "\n",
    "# create regression problem\n",
    "n_points = 1000 # points\n",
    "x, y =  make_friedman1(n_samples=n_points, n_features=15, \n",
    "                       noise=1.0, random_state=100)\n",
    "# split to train/test set\n",
    "x_train, x_test, y_train, y_test = \\\n",
    "        train_test_split(x, y, test_size=0.33, random_state=100)       \n",
    "rf = RandomForestRegressor(n_estimators=500, oob_score = True, max_features=8,random_state=100)\n",
    "rf.fit(x_train,y_train)\n",
    "yhatrf = rf.predict(x_test)\n",
    "\n",
    "print(\"RF R^2 score = \", r2_score(y_test, yhatrf), \n",
    "      \"\\nRF OOB R^2 score = \", rf.oob_score_)\n"
   ]
  },
  {
   "cell_type": "markdown",
   "metadata": {},
   "source": [
    "### Feature importance\n",
    "\n",
    "Let us consider a classification problem with 15 features, only 5 of them informative.\n"
   ]
  },
  {
   "cell_type": "code",
   "execution_count": 22,
   "metadata": {},
   "outputs": [
    {
     "name": "stdout",
     "output_type": "stream",
     "text": [
      "Feature 5 (0.258110)\n",
      "Feature 1 (0.229218)\n",
      "Feature 2 (0.104998)\n",
      "Feature 4 (0.098675)\n",
      "Feature 3 (0.084086)\n",
      "Feature 7 (0.026660)\n",
      "Feature 11 (0.024351)\n",
      "Feature 13 (0.023484)\n",
      "Feature 15 (0.023372)\n",
      "Feature 6 (0.022797)\n",
      "Feature 8 (0.022691)\n",
      "Feature 14 (0.021040)\n",
      "Feature 9 (0.020687)\n",
      "Feature 10 (0.020224)\n",
      "Feature 12 (0.019606)\n"
     ]
    },
    {
     "data": {
      "image/png": "[encoded data removed]",
      "text/plain": [
       "<Figure size 640x480 with 1 Axes>"
      ]
     },
     "metadata": {},
     "output_type": "display_data"
    }
   ],
   "source": [
    "\"\"\" VarImportance.py \"\"\"\n",
    "\n",
    "import numpy as np\n",
    "from sklearn.datasets import make_classification\n",
    "from sklearn.ensemble import RandomForestClassifier\n",
    "import matplotlib.pyplot as plt, pylab\n",
    "\n",
    "# create regression problem\n",
    "n_points = 1000 # points\n",
    "x, y =  make_classification(n_samples=n_points, n_features=15, n_informative=5,\n",
    "                            n_redundant=0, n_repeated=0, random_state=100, shuffle=False)\n",
    "\n",
    "rf = RandomForestClassifier(n_estimators=200, max_features  = \"log2\")\n",
    "\n",
    "rf.fit(x,y)\n",
    "\n",
    "\n",
    "importances = rf.feature_importances_\n",
    "indices = np.argsort(importances)[::-1]\n",
    "\n",
    "for f in range(15):\n",
    "    print(\"Feature %d (%f)\" % (indices[f]+1, importances[indices[f]]))\n",
    "\n",
    "\n",
    "std = np.std([rf.feature_importances_ for tree in rf.estimators_],\n",
    "             axis=0)\n",
    "\n",
    "# %%%%%%%%%%%%%%%%%%%%%%%%%%%%%%%%%%%%%%%%%%%%%%%%%%%%%%%%%%%%%%%%%%\n",
    "f = plt.figure()\n",
    "#plt.title(\"Feature importances\")\n",
    "plt.bar(range(x.shape[1]), importances[indices],\n",
    "       color=\"b\", yerr=std[indices], align=\"center\")\n",
    "plt.xticks(range(x.shape[1]), indices+1)\n",
    "plt.xlim([-1, x.shape[1]])\n",
    "pylab.xlabel(\"feature index\")\n",
    "pylab.ylabel(\"importance\")\n",
    "plt.show()\n",
    "f.savefig(\"varimport.pdf\", bbox_inches='tight')\n",
    "# %%%%%%%%%%%%%%%%%%%%%%%%%%%%%%%%%%%%%%%%%%%%%%%%%%%%%%%%%%%%%%%%%%"
   ]
  },
  {
   "cell_type": "markdown",
   "metadata": {},
   "source": [
    "### Regression boosting\n",
    "\n",
    "Basic implementation of the regression boosting algorithm in {cite:p}`kroese2020`:\n",
    "![Regression boosting](../figures/A871Kroese.png)"
   ]
  },
  {
   "cell_type": "code",
   "execution_count": 23,
   "metadata": {},
   "outputs": [
    {
     "data": {
      "image/png": "[encoded data removed]",
      "text/plain": [
       "<Figure size 640x480 with 1 Axes>"
      ]
     },
     "metadata": {},
     "output_type": "display_data"
    },
    {
     "data": {
      "image/png": "[encoded data removed]",
      "text/plain": [
       "<Figure size 640x480 with 1 Axes>"
      ]
     },
     "metadata": {},
     "output_type": "display_data"
    }
   ],
   "source": [
    "\"\"\" RegressionBoosting.py \"\"\"\n",
    "import numpy as np\n",
    "from sklearn.tree import DecisionTreeRegressor\n",
    "from sklearn.model_selection import train_test_split\n",
    "from sklearn.datasets import make_regression\n",
    "import matplotlib.pyplot as plt\n",
    "\n",
    "def TrainBoost(alpha,BoostingRounds,x,y):\n",
    "    g_0 = np.mean(y)\n",
    "    residuals  = y-alpha*g_0\n",
    "\n",
    "    # list of basic regressor\n",
    "    g_boost = []\n",
    "\n",
    "    for i in range(BoostingRounds):\n",
    "        h_i = DecisionTreeRegressor(max_depth=1)\n",
    "        h_i.fit(x,residuals)\n",
    "        residuals = residuals  - alpha*h_i.predict(x)\n",
    "        g_boost.append(h_i)\n",
    "\n",
    "    return g_0, g_boost\n",
    "\n",
    "def Predict(g_0, g_boost,alpha, x):\n",
    "    yhat = alpha*g_0*np.ones(len(x))\n",
    "    for j in range(len(g_boost)):\n",
    "        yhat = yhat+alpha*g_boost[j].predict(x)\n",
    "    \n",
    "    return yhat    \n",
    "\n",
    "\n",
    "np.random.seed(1)\n",
    "sz = 30\n",
    "\n",
    "# create dataset    \n",
    "x,y = make_regression(n_samples=sz, n_features=1, n_informative=1,noise=10.0)\n",
    "  \n",
    "# boosting algorithm\n",
    "BoostingRounds = 1000\n",
    "alphas = [1, 0.005]\n",
    "    \n",
    "for alpha in alphas:\n",
    "    g_0, g_boost = TrainBoost(alpha,BoostingRounds,x,y)\n",
    "    yhat = Predict(g_0, g_boost, alpha, x)\n",
    "  \n",
    "    # plot        \n",
    "    tmpX =  np.reshape(np.linspace(-2.5,2,1000),(1000,1))\n",
    "    yhatX = Predict(g_0, g_boost, alpha, tmpX)\n",
    "    f = plt.figure()\n",
    "    plt.plot(x,y,'*')\n",
    "    plt.plot(tmpX,yhatX)\n",
    "    plt.show()    "
   ]
  },
  {
   "cell_type": "markdown",
   "metadata": {},
   "source": [
    "Gradient boosting algorithm:\n",
    "![Gradient boosting](../figures/A872Kroese.png)"
   ]
  },
  {
   "cell_type": "code",
   "execution_count": 24,
   "metadata": {},
   "outputs": [
    {
     "name": "stdout",
     "output_type": "stream",
     "text": [
      "Gradient Boosting R^2 score =  0.8992706169055638\n"
     ]
    }
   ],
   "source": [
    "\"\"\" GradientBoostingRegression.py \"\"\"\n",
    "import numpy as np\n",
    "from sklearn.datasets import make_friedman1\n",
    "from sklearn.tree import DecisionTreeRegressor\n",
    "from sklearn.model_selection import train_test_split\n",
    "from sklearn.metrics import r2_score\n",
    "\n",
    "# create regression problem\n",
    "n_points = 1000 # points\n",
    "x, y =  make_friedman1(n_samples=n_points, n_features=15, \n",
    "                       noise=1.0, random_state=100)\n",
    "\n",
    "# split to train/test set\n",
    "x_train, x_test, y_train, y_test = \\\n",
    "        train_test_split(x, y, test_size=0.33, random_state=100)\n",
    "\n",
    "# boosting sklearn\n",
    "from sklearn.ensemble import GradientBoostingRegressor\n",
    "\n",
    "breg = GradientBoostingRegressor(learning_rate=0.1, \n",
    "            n_estimators=100, max_depth =3, random_state=100)\n",
    "breg.fit(x_train,y_train)\n",
    "yhat = breg.predict(x_test)\n",
    "print(\"Gradient Boosting R^2 score = \",r2_score(y_test, yhat))\n"
   ]
  },
  {
   "cell_type": "markdown",
   "metadata": {},
   "source": [
    "The AdaBoost algorithm and implementation:\n",
    "\n",
    "\n",
    "![AdaBoost](../figures/A873Kroese.png)"
   ]
  },
  {
   "cell_type": "code",
   "execution_count": 25,
   "metadata": {},
   "outputs": [
    {
     "name": "stdout",
     "output_type": "stream",
     "text": [
      "AdaBoost Classifier exponential loss =  0.004224013663777135\n",
      "AdaBoost Classifier zero-one loss =  0.0\n"
     ]
    }
   ],
   "source": [
    "\"\"\" AdaBoost.py \"\"\"\n",
    "from sklearn.datasets import make_blobs\n",
    "from sklearn.tree import DecisionTreeClassifier\n",
    "from sklearn.model_selection import train_test_split\n",
    "from sklearn.metrics import zero_one_loss\n",
    "import numpy as np\n",
    "\n",
    "\n",
    "def ExponentialLoss(y,yhat):\n",
    "    n = len(y)\n",
    "    loss = 0\n",
    "    for i in range(n):\n",
    "        loss = loss+np.exp(-y[i]*yhat[i])\n",
    "    loss = loss/n\n",
    "    return loss\n",
    "\n",
    "# create binary classification problem\n",
    "np.random.seed(100)\n",
    "\n",
    "n_points = 100 # points\n",
    "x, y =  make_blobs(n_samples=n_points, n_features=5,  centers=2,\n",
    "                      cluster_std=20.0, random_state=100)\n",
    "y[y==0]=-1  \n",
    "\n",
    "# AdaBoost implementation\n",
    "BoostingRounds = 1000\n",
    "n = len(x)\n",
    "W = 1/n*np.ones(n)\n",
    "\n",
    "Learner = []\n",
    "alpha_b_arr = []\n",
    "\n",
    "for i in range(BoostingRounds):\n",
    "    clf = DecisionTreeClassifier(max_depth=1)\n",
    "    clf.fit(x,y, sample_weight=W)\n",
    "    \n",
    "    Learner.append(clf)\n",
    "    \n",
    "    train_pred = clf.predict(x)\n",
    "    err_b = 0\n",
    "    for i in range(n):\n",
    "        if(train_pred[i]!=y[i]):\n",
    "            err_b = err_b+W[i]\n",
    "    err_b = err_b/np.sum(W)\n",
    "        \n",
    "    alpha_b = 0.5*np.log((1-err_b)/err_b)\n",
    "    \n",
    "    alpha_b_arr.append(alpha_b)\n",
    "    \n",
    "    for i in range(n):\n",
    "        W[i] = W[i]*np.exp(-y[i]*alpha_b*train_pred[i])        \n",
    "    \n",
    "yhat_boost = np.zeros(len(y))\n",
    "\n",
    "for j in range(BoostingRounds):\n",
    "    yhat_boost = yhat_boost+alpha_b_arr[j]*Learner[j].predict(x)\n",
    "    \n",
    "    \n",
    "yhat = np.zeros(n)\n",
    "yhat[yhat_boost>=0]=1\n",
    "yhat[yhat_boost<0]=-1\n",
    "print(\"AdaBoost Classifier exponential loss = \", ExponentialLoss(y, yhat_boost)) \n",
    "print(\"AdaBoost Classifier zero-one loss = \", zero_one_loss(y,yhat) ) \n",
    "     \n"
   ]
  }
 ],
 "metadata": {
  "kernelspec": {
   "display_name": "base",
   "language": "python",
   "name": "python3"
  },
  "language_info": {
   "codemirror_mode": {
    "name": "ipython",
    "version": 3
   },
   "file_extension": ".py",
   "mimetype": "text/x-python",
   "name": "python",
   "nbconvert_exporter": "python",
   "pygments_lexer": "ipython3",
   "version": "3.11.5"
  }
 },
 "nbformat": 4,
 "nbformat_minor": 2
}