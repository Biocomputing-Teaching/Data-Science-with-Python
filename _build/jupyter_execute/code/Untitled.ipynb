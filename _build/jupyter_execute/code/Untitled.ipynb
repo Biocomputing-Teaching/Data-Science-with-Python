{
 "cells": [
  {
   "cell_type": "code",
   "execution_count": 1,
   "id": "db5425b6",
   "metadata": {},
   "outputs": [
    {
     "ename": "ImportError",
     "evalue": "cannot import name 'random' from 'scipy' (/Users/jordivilla/miniconda3/lib/python3.11/site-packages/scipy/__init__.py)",
     "output_type": "error",
     "traceback": [
      "\u001b[0;31m---------------------------------------------------------------------------\u001b[0m",
      "\u001b[0;31mImportError\u001b[0m                               Traceback (most recent call last)",
      "Cell \u001b[0;32mIn[1], line 1\u001b[0m\n\u001b[0;32m----> 1\u001b[0m \u001b[38;5;28;01mfrom\u001b[39;00m \u001b[38;5;21;01mscipy\u001b[39;00m \u001b[38;5;28;01mimport\u001b[39;00m random \n\u001b[1;32m      2\u001b[0m \u001b[38;5;28;01mimport\u001b[39;00m \u001b[38;5;21;01mnumpy\u001b[39;00m \u001b[38;5;28;01mas\u001b[39;00m \u001b[38;5;21;01mnp\u001b[39;00m \n\u001b[1;32m      4\u001b[0m a \u001b[38;5;241m=\u001b[39m \u001b[38;5;241m-\u001b[39mnp\u001b[38;5;241m.\u001b[39mpi\n",
      "\u001b[0;31mImportError\u001b[0m: cannot import name 'random' from 'scipy' (/Users/jordivilla/miniconda3/lib/python3.11/site-packages/scipy/__init__.py)"
     ]
    }
   ],
   "source": [
    "from scipy import random \n",
    "import numpy as np \n",
    "        \n",
    "a = -np.pi\n",
    "b = np.pi \n",
    "N = 1000\n",
    "        \n",
    "ar = np.zeros(N) \n",
    "        \n",
    "for i in range (len(ar)): \n",
    "    ar[i] = random.uniform(a,b) \n",
    "        \n",
    "integral = 0.0\n",
    "        \n",
    "def f(x): \n",
    "    return np.cos(x) \n",
    "        \n",
    "for i in ar: \n",
    "    integral += f(i) \n",
    "        \n",
    "ans = (b-a)/float(N)*integral \n",
    "        \n",
    "print (\"Approx to the integral by CMC: {}.\".format(ans)) "
   ]
  },
  {
   "cell_type": "code",
   "execution_count": null,
   "id": "ce6f3789",
   "metadata": {},
   "outputs": [],
   "source": []
  }
 ],
 "metadata": {
  "kernelspec": {
   "display_name": "Python 3 (ipykernel)",
   "language": "python",
   "name": "python3"
  },
  "language_info": {
   "codemirror_mode": {
    "name": "ipython",
    "version": 3
   },
   "file_extension": ".py",
   "mimetype": "text/x-python",
   "name": "python",
   "nbconvert_exporter": "python",
   "pygments_lexer": "ipython3",
   "version": "3.11.5"
  }
 },
 "nbformat": 4,
 "nbformat_minor": 5
}