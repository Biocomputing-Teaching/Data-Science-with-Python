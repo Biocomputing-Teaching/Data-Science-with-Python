{
 "cells": [
  {
   "cell_type": "markdown",
   "metadata": {},
   "source": [
    "# UNIT 9. Neural Networks\n",
    "\n",
    "This Unit includes an introduction to neural networks, strongly based in {cite:p}`kroese2020`."
   ]
  },
  {
   "cell_type": "markdown",
   "metadata": {},
   "source": [
    "```{bibliography}\n",
    ":style: unsrt\n",
    "```"
   ]
  },
  {
   "cell_type": "markdown",
   "metadata": {},
   "source": [
    "## A very simple first example of NN\n",
    "\n",
    "[adapted from here](https://realpython.com/python-ai-neural-network/)."
   ]
  },
  {
   "cell_type": "markdown",
   "metadata": {},
   "source": [
    "let us start by looking at the shape of a sigmoid function, that we will use later for the final layer of the classification NN"
   ]
  },
  {
   "cell_type": "code",
   "execution_count": 20,
   "metadata": {},
   "outputs": [
    {
     "data": {
      "text/plain": [
       "[<matplotlib.lines.Line2D at 0x116da9f90>]"
      ]
     },
     "execution_count": 20,
     "metadata": {},
     "output_type": "execute_result"
    },
    {
     "data": {
      "image/png": "[encoded data removed]",
      "text/plain": [
       "<Figure size 640x480 with 1 Axes>"
      ]
     },
     "metadata": {},
     "output_type": "display_data"
    }
   ],
   "source": [
    "import matplotlib.pyplot as plt\n",
    "import numpy as np\n",
    "\n",
    "x = np.linspace(-10, 10, 101)\n",
    "plt.plot(x, 1/(1+np.exp(-x)))"
   ]
  },
  {
   "cell_type": "markdown",
   "metadata": {},
   "source": [
    "In the following code, we have defined a first layer which simply contains weights for each of the feature values and we multiply both vectors with a dot product.\n",
    "The second layer is a sigmoid function that decides if we choose a 0 or 1 as a result of the network.\n",
    "\n",
    "The input data and the correct output are given here:\n",
    "\n",
    "| item  |  feature 1 | feature 2 | ouput |\n",
    "|-------|------------|-----------|-------|\n",
    "|  1    |   1.66     |    1.56   |  1    |\n",
    "|  2    |   2.00     |    1.5    |  0    |\n",
    "\n",
    "and we will use as weights the vector $(1.45,-0.66)$ to predict the output of the two data points, plus a sigmoid function to classify in category 0 or 1."
   ]
  },
  {
   "cell_type": "code",
   "execution_count": 21,
   "metadata": {},
   "outputs": [
    {
     "name": "stdout",
     "output_type": "stream",
     "text": [
      "The prediction result is: [0.7985731]\n"
     ]
    }
   ],
   "source": [
    "import numpy as np\n",
    "\n",
    "# Wrapping the vectors in NumPy arrays\n",
    "input_vector = np.array([1.66, 1.56])\n",
    "weights_1 = np.array([1.45, -0.66])\n",
    "bias = np.array([0.0])\n",
    "\n",
    "def sigmoid(x):\n",
    "    return 1 / (1 + np.exp(-x))\n",
    "\n",
    "def make_prediction(input_vector, weights, bias):\n",
    "     layer_1 = np.dot(input_vector, weights) + bias\n",
    "     layer_2 = sigmoid(layer_1)\n",
    "     return layer_2\n",
    "\n",
    "prediction = make_prediction(input_vector, weights_1, bias)\n",
    "\n",
    "print(f\"The prediction result is: {prediction}\")"
   ]
  },
  {
   "cell_type": "markdown",
   "metadata": {},
   "source": [
    "the result was good, but for the second data point our prediction will be wrong"
   ]
  },
  {
   "cell_type": "code",
   "execution_count": 22,
   "metadata": {},
   "outputs": [
    {
     "name": "stdout",
     "output_type": "stream",
     "text": [
      "The prediction result is: [0.87101915]\n"
     ]
    }
   ],
   "source": [
    "input_vector = np.array([2.00, 1.5])\n",
    "prediction = make_prediction(input_vector, weights_1, bias)\n",
    "print(f\"The prediction result is: {prediction}\")"
   ]
  },
  {
   "cell_type": "markdown",
   "metadata": {},
   "source": [
    "so... we need to train our network. In the process of training the neural network, we will first assess the error and then adjust the weights accordingly. To adjust the weights, we use the **gradient descent** and **backpropagation** algorithms. Gradient descent is applied to find the direction and the rate to update the parameters. The algorithm needs to be applied to a given function.\n",
    "\n",
    "First, we measure the mean square error (MSE)"
   ]
  },
  {
   "cell_type": "code",
   "execution_count": 23,
   "metadata": {},
   "outputs": [
    {
     "name": "stdout",
     "output_type": "stream",
     "text": [
      "Prediction: [0.87101915]; Error: [0.75867436]\n"
     ]
    }
   ],
   "source": [
    "target = 0\n",
    "\n",
    "mse = np.square(prediction - target)\n",
    "\n",
    "print(f\"Prediction: {prediction}; Error: {mse}\")"
   ]
  },
  {
   "cell_type": "markdown",
   "metadata": {},
   "source": [
    "minimal gradient descent:"
   ]
  },
  {
   "cell_type": "code",
   "execution_count": 24,
   "metadata": {},
   "outputs": [
    {
     "name": "stdout",
     "output_type": "stream",
     "text": [
      "The derivative is [1.7420383]\n",
      "The old weights are [ 1.45 -0.66]\n",
      "The new weights are [-0.2920383 -2.4020383]\n",
      "Prediction: [0.01496248]; Error: [0.00022388]\n"
     ]
    }
   ],
   "source": [
    "derivative = 2 * (prediction - target)\n",
    "\n",
    "print(f\"The derivative is {derivative}\")\n",
    "\n",
    "# Updating the weights\n",
    "print(f\"The old weights are {weights_1}\")\n",
    "weights_1 = weights_1 - derivative\n",
    "print(f\"The new weights are {weights_1}\")\n",
    "\n",
    "prediction = make_prediction(input_vector, weights_1, bias)\n",
    "\n",
    "error = (prediction - target) ** 2\n",
    "\n",
    "print(f\"Prediction: {prediction}; Error: {error}\")"
   ]
  },
  {
   "cell_type": "code",
   "execution_count": 25,
   "metadata": {},
   "outputs": [],
   "source": [
    "def sigmoid_deriv(x):\n",
    "    return sigmoid(x) * (1-sigmoid(x))\n",
    "\n",
    "derror_dprediction = 2 * (prediction - target)\n",
    "layer_1 = np.dot(input_vector, weights_1) + bias\n",
    "dprediction_dlayer1 = sigmoid_deriv(layer_1)\n",
    "dlayer1_dbias = 1\n",
    "\n",
    "derror_dbias = (\n",
    "    derror_dprediction * dprediction_dlayer1 * dlayer1_dbias\n",
    ")"
   ]
  },
  {
   "cell_type": "code",
   "execution_count": 26,
   "metadata": {},
   "outputs": [],
   "source": [
    "class NeuralNetwork:\n",
    "    def __init__(self, learning_rate):\n",
    "        self.weights = np.array([np.random.randn(), np.random.randn()])\n",
    "        self.bias = np.random.randn()\n",
    "        self.learning_rate = learning_rate\n",
    "\n",
    "    def _sigmoid(self, x):\n",
    "        return 1 / (1 + np.exp(-x))\n",
    "\n",
    "    def _sigmoid_deriv(self, x):\n",
    "        return self._sigmoid(x) * (1 - self._sigmoid(x))\n",
    "\n",
    "    def predict(self, input_vector):\n",
    "        layer_1 = np.dot(input_vector, self.weights) + self.bias\n",
    "        layer_2 = self._sigmoid(layer_1)\n",
    "        prediction = layer_2\n",
    "        return prediction\n",
    "\n",
    "    def _compute_gradients(self, input_vector, target):\n",
    "        layer_1 = np.dot(input_vector, self.weights) + self.bias\n",
    "        layer_2 = self._sigmoid(layer_1)\n",
    "        prediction = layer_2\n",
    "\n",
    "        derror_dprediction = 2 * (prediction - target)\n",
    "        dprediction_dlayer1 = self._sigmoid_deriv(layer_1)\n",
    "        dlayer1_dbias = 1\n",
    "        dlayer1_dweights = (0 * self.weights) + (1 * input_vector)\n",
    "\n",
    "        derror_dbias = (\n",
    "            derror_dprediction * dprediction_dlayer1 * dlayer1_dbias\n",
    "        )\n",
    "        derror_dweights = (\n",
    "            derror_dprediction * dprediction_dlayer1 * dlayer1_dweights\n",
    "        )\n",
    "\n",
    "        return derror_dbias, derror_dweights\n",
    "\n",
    "    def _update_parameters(self, derror_dbias, derror_dweights):\n",
    "        self.bias = self.bias - (derror_dbias * self.learning_rate)\n",
    "        self.weights = self.weights - (\n",
    "            derror_dweights * self.learning_rate\n",
    "        )\n",
    "\n",
    "\n",
    "    def train(self, input_vectors, targets, iterations):\n",
    "        '''\n",
    "        next we define the train method. You pick a random instance from the dataset, compute the gradients, and update the weights and the bias. You also compute the cumulative error every 100 iterations and save those results in an array. You’ll plot this array to visualize how the error changes during the training process.\n",
    "        '''\n",
    "        cumulative_errors = []\n",
    "        for current_iteration in range(iterations):\n",
    "            # Pick a data instance at random\n",
    "            random_data_index = np.random.randint(len(input_vectors))\n",
    "\n",
    "            input_vector = input_vectors[random_data_index]\n",
    "            target = targets[random_data_index]\n",
    "\n",
    "            # Compute the gradients and update the weights\n",
    "            derror_dbias, derror_dweights = self._compute_gradients(\n",
    "                input_vector, target\n",
    "            )\n",
    "\n",
    "            self._update_parameters(derror_dbias, derror_dweights)\n",
    "\n",
    "            # Measure the cumulative error for all the instances\n",
    "            if current_iteration % 100 == 0:\n",
    "                cumulative_error = 0\n",
    "                # Loop through all the instances to measure the error\n",
    "                for data_instance_index in range(len(input_vectors)):\n",
    "                    data_point = input_vectors[data_instance_index]\n",
    "                    target = targets[data_instance_index]\n",
    "\n",
    "                    prediction = self.predict(data_point)\n",
    "                    error = np.square(prediction - target)\n",
    "\n",
    "                    cumulative_error = cumulative_error + error\n",
    "                cumulative_errors.append(cumulative_error)\n",
    "\n",
    "        return cumulative_errors"
   ]
  },
  {
   "cell_type": "code",
   "execution_count": 27,
   "metadata": {},
   "outputs": [
    {
     "data": {
      "text/plain": [
       "0.42354420670349535"
      ]
     },
     "execution_count": 27,
     "metadata": {},
     "output_type": "execute_result"
    }
   ],
   "source": [
    "learning_rate = 0.01\n",
    "\n",
    "neural_network = NeuralNetwork(learning_rate)\n",
    "\n",
    "neural_network.predict(input_vector)"
   ]
  },
  {
   "cell_type": "code",
   "execution_count": 28,
   "metadata": {},
   "outputs": [
    {
     "data": {
      "image/png": "[encoded data removed]",
      "text/plain": [
       "<Figure size 640x480 with 1 Axes>"
      ]
     },
     "metadata": {},
     "output_type": "display_data"
    }
   ],
   "source": [
    "# Paste the NeuralNetwork class code here\n",
    "# (and don't forget to add the train method to the class)\n",
    "\n",
    "import matplotlib.pyplot as plt\n",
    "\n",
    "input_vectors = np.array(\n",
    "    [\n",
    "        [3, 1.5],\n",
    "        [2, 1],\n",
    "        [4, 1.5],\n",
    "        [3, 4],\n",
    "        [3.5, 0.5],\n",
    "        [2, 0.5],\n",
    "        [5.5, 1],\n",
    "        [1, 1],\n",
    "    ]\n",
    ")\n",
    "\n",
    "targets = np.array([0, 1, 0, 1, 0, 1, 1, 0])\n",
    "\n",
    "learning_rate = 0.1\n",
    "\n",
    "neural_network = NeuralNetwork(learning_rate)\n",
    "\n",
    "training_error = neural_network.train(input_vectors, targets, 10000)\n",
    "\n",
    "plt.plot(training_error)\n",
    "plt.xlabel(\"Iterations\")\n",
    "plt.ylabel(\"Error for all training instances\")\n",
    "plt.savefig(\"cumulative_error.png\")"
   ]
  }
 ],
 "metadata": {
  "kernelspec": {
   "display_name": "base",
   "language": "python",
   "name": "python3"
  },
  "language_info": {
   "codemirror_mode": {
    "name": "ipython",
    "version": 3
   },
   "file_extension": ".py",
   "mimetype": "text/x-python",
   "name": "python",
   "nbconvert_exporter": "python",
   "pygments_lexer": "ipython3",
   "version": "3.11.6"
  }
 },
 "nbformat": 4,
 "nbformat_minor": 2
}