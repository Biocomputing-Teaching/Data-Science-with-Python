{
 "cells": [
  {
   "cell_type": "code",
   "execution_count": 1,
   "id": "db5425b6",
   "metadata": {},
   "outputs": [
    {
     "name": "stdout",
     "output_type": "stream",
     "text": [
      "Approx to the integral by CMC: 0.028017358315495493.\n"
     ]
    }
   ],
   "source": [
    "from scipy import random \n",
    "import numpy as np \n",
    "        \n",
    "a = -np.pi\n",
    "b = np.pi \n",
    "N = 1000\n",
    "        \n",
    "ar = np.zeros(N) \n",
    "        \n",
    "for i in range (len(ar)): \n",
    "    ar[i] = random.uniform(a,b) \n",
    "        \n",
    "integral = 0.0\n",
    "        \n",
    "def f(x): \n",
    "    return np.cos(x) \n",
    "        \n",
    "for i in ar: \n",
    "    integral += f(i) \n",
    "        \n",
    "ans = (b-a)/float(N)*integral \n",
    "        \n",
    "print (\"Approx to the integral by CMC: {}.\".format(ans)) "
   ]
  },
  {
   "cell_type": "code",
   "execution_count": null,
   "id": "ce6f3789",
   "metadata": {},
   "outputs": [],
   "source": []
  }
 ],
 "metadata": {
  "kernelspec": {
   "display_name": "Python 3 (ipykernel)",
   "language": "python",
   "name": "python3"
  },
  "language_info": {
   "codemirror_mode": {
    "name": "ipython",
    "version": 3
   },
   "file_extension": ".py",
   "mimetype": "text/x-python",
   "name": "python",
   "nbconvert_exporter": "python",
   "pygments_lexer": "ipython3",
   "version": "3.9.7"
  }
 },
 "nbformat": 4,
 "nbformat_minor": 5
}