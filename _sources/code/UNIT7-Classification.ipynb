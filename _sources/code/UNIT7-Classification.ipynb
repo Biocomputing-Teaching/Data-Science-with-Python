{
 "cells": [
  {
   "cell_type": "markdown",
   "metadata": {},
   "source": [
    "# UNIT 7. Classification\n",
    "\n",
    "This Unit includes main introduction to classification in machine learning, strongly based in {cite:p}`kroese2020`."
   ]
  }
 ],
 "metadata": {
  "language_info": {
   "name": "python"
  },
  "orig_nbformat": 4
 },
 "nbformat": 4,
 "nbformat_minor": 2
}
