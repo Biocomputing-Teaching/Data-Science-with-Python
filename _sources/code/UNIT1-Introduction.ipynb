{
 "cells": [
  {
   "cell_type": "markdown",
   "metadata": {},
   "source": [
    "# UNIT 1. Import and Visualitzation of data with Python\n",
    "\n",
    "This Unit includes some fast shortcuts to representing data in Python, closely following {cite:p}`mahan_quimica_1977`"
   ]
  },
  {
   "cell_type": "markdown",
   "metadata": {},
   "source": [
    "```{bibliography}\n",
    "```"
   ]
  }
 ],
 "metadata": {
  "language_info": {
   "name": "python"
  },
  "orig_nbformat": 4
 },
 "nbformat": 4,
 "nbformat_minor": 2
}
