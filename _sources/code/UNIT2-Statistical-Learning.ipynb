{
 "cells": [
  {
   "cell_type": "markdown",
   "metadata": {},
   "source": [
    "# UNIT 2. Statistical Learning\n",
    "\n",
    "This Unit includes main introduction to statistical learning, strongly based in {cite:p}`kroese2020`."
   ]
  },
  {
   "cell_type": "markdown",
   "metadata": {},
   "source": [
    "# UNIT 1. Import and Visualitzation of data with Python\n",
    "\n",
    "This Unit includes some fast shortcuts to representing data in Python, closely following {cite:p}`kroese2020`"
   ]
  }
 ],
 "metadata": {
  "language_info": {
   "name": "python"
  },
  "orig_nbformat": 4
 },
 "nbformat": 4,
 "nbformat_minor": 2
}
