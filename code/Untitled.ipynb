{
 "cells": [
  {
   "cell_type": "code",
   "execution_count": 1,
   "id": "db5425b6",
   "metadata": {},
   "outputs": [
    {
     "ename": "ImportError",
     "evalue": "cannot import name 'random' from 'scipy' (/Users/jordivilla/miniconda3/lib/python3.11/site-packages/scipy/__init__.py)",
     "output_type": "error",
     "traceback": [
      "\u001b[0;31m---------------------------------------------------------------------------\u001b[0m",
      "\u001b[0;31mImportError\u001b[0m                               Traceback (most recent call last)",
      "\u001b[1;32m/Users/jordivilla/GitHub/Classes/Data-Science-with-Python/code/Untitled.ipynb Cell 1\u001b[0m line \u001b[0;36m1\n\u001b[0;32m----> <a href='vscode-notebook-cell:/Users/jordivilla/GitHub/Classes/Data-Science-with-Python/code/Untitled.ipynb#W0sZmlsZQ%3D%3D?line=0'>1</a>\u001b[0m \u001b[39mfrom\u001b[39;00m \u001b[39mscipy\u001b[39;00m \u001b[39mimport\u001b[39;00m random \n\u001b[1;32m      <a href='vscode-notebook-cell:/Users/jordivilla/GitHub/Classes/Data-Science-with-Python/code/Untitled.ipynb#W0sZmlsZQ%3D%3D?line=1'>2</a>\u001b[0m \u001b[39mimport\u001b[39;00m \u001b[39mnumpy\u001b[39;00m \u001b[39mas\u001b[39;00m \u001b[39mnp\u001b[39;00m \n\u001b[1;32m      <a href='vscode-notebook-cell:/Users/jordivilla/GitHub/Classes/Data-Science-with-Python/code/Untitled.ipynb#W0sZmlsZQ%3D%3D?line=3'>4</a>\u001b[0m a \u001b[39m=\u001b[39m \u001b[39m-\u001b[39mnp\u001b[39m.\u001b[39mpi\n",
      "\u001b[0;31mImportError\u001b[0m: cannot import name 'random' from 'scipy' (/Users/jordivilla/miniconda3/lib/python3.11/site-packages/scipy/__init__.py)"
     ]
    }
   ],
   "source": [
    "from scipy import random \n",
    "import numpy as np \n",
    "        \n",
    "a = -np.pi\n",
    "b = np.pi \n",
    "N = 1000\n",
    "        \n",
    "ar = np.zeros(N) \n",
    "        \n",
    "for i in range (len(ar)): \n",
    "    ar[i] = random.uniform(a,b) \n",
    "        \n",
    "integral = 0.0\n",
    "        \n",
    "def f(x): \n",
    "    return np.cos(x) \n",
    "        \n",
    "for i in ar: \n",
    "    integral += f(i) \n",
    "        \n",
    "ans = (b-a)/float(N)*integral \n",
    "        \n",
    "print (\"Approx to the integral by CMC: {}.\".format(ans)) "
   ]
  },
  {
   "cell_type": "code",
   "execution_count": null,
   "id": "ce6f3789",
   "metadata": {},
   "outputs": [],
   "source": []
  }
 ],
 "metadata": {
  "kernelspec": {
   "display_name": "Python 3 (ipykernel)",
   "language": "python",
   "name": "python3"
  },
  "language_info": {
   "codemirror_mode": {
    "name": "ipython",
    "version": 3
   },
   "file_extension": ".py",
   "mimetype": "text/x-python",
   "name": "python",
   "nbconvert_exporter": "python",
   "pygments_lexer": "ipython3",
   "version": "3.11.5"
  }
 },
 "nbformat": 4,
 "nbformat_minor": 5
}
