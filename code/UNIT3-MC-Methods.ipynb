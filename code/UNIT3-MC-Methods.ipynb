{
 "cells": [
  {
   "cell_type": "code",
   "execution_count": null,
   "metadata": {},
   "outputs": [],
   "source": [
    "# UNIT 3. Monte Carlo methods\n",
    "\n",
    "This Unit includes an introduction of Monte Carlo methods in Machine Learning, strongly based in {cite:p}`kroese2020`."
   ]
  }
 ],
 "metadata": {
  "language_info": {
   "name": "python"
  },
  "orig_nbformat": 4
 },
 "nbformat": 4,
 "nbformat_minor": 2
}
