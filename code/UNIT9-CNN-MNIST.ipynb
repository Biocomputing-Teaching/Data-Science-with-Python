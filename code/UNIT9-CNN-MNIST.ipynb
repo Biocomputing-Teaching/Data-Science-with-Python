{
 "cells": [
  {
   "cell_type": "markdown",
   "metadata": {},
   "source": [
    "# UNIT 9. Convolutional Neural Networks on the MNIST dataset\n",
    "\n",
    "This Unit includes an implementation of a CNN to calssify digits from the [MNIST dataset](https://en.wikipedia.org/wiki/MNIST_database). Code adapted from "
   ]
  },
  {
   "cell_type": "markdown",
   "metadata": {},
   "source": [
    "```{bibliography}\n",
    ":style: unsrt\n",
    "```"
   ]
  },
  {
   "cell_type": "markdown",
   "metadata": {},
   "source": [
    "we start by importing:\n",
    "* the dataset *MNIST*\n",
    "* the **[Sequential](https://keras.io/guides/sequential_model/)** function\n",
    "* the differential layers:\n",
    "  * **[Conv2D](https://towardsdatascience.com/conv2d-to-finally-understand-what-happens-in-the-forward-pass-1bbaafb0b148)**: creates the convolutional kernel to produce a set of output features\n",
    "  * **[MaxPooling2D](https://deepai.org/machine-learning-glossary-and-terms/max-pooling)**: downsamples the input by taking the maximum value of the kernel, reducing the dimensionality of the model\n",
    "  * **Flatten**: flattens the input tensor into a one dimensional vector. Useful when transitioning from a CNN to a fully connected CNN\n",
    "  * **Dense**: standard fully connected NN layer. Each neuron in the layer is connected to all neurons in the previous layer. \n",
    "* **to_categorical**"
   ]
  },
  {
   "cell_type": "code",
   "execution_count": 158,
   "metadata": {},
   "outputs": [],
   "source": [
    "import numpy as np\n",
    "from tensorflow.keras.datasets import mnist\n",
    "from tensorflow.keras.models import Sequential\n",
    "from tensorflow.keras.layers import Conv2D,MaxPooling2D,Flatten,Dense\n",
    "from tensorflow.keras.utils import to_categorical\n",
    "\n"
   ]
  },
  {
   "cell_type": "markdown",
   "metadata": {},
   "source": [
    "let us now load the MNIST dataset"
   ]
  },
  {
   "cell_type": "code",
   "execution_count": 159,
   "metadata": {},
   "outputs": [
    {
     "name": "stdout",
     "output_type": "stream",
     "text": [
      "(60000, 28, 28)\n",
      "(60000,)\n",
      "(10000, 28, 28)\n",
      "(10000,)\n"
     ]
    }
   ],
   "source": [
    "(X_train,y_train),(X_test,y_test) = mnist.load_data()\n",
    "print(X_train.shape)\n",
    "print(y_train.shape)\n",
    "print(X_test.shape)\n",
    "print(y_test.shape)"
   ]
  },
  {
   "cell_type": "markdown",
   "metadata": {},
   "source": [
    "Let us display a collection of sample images"
   ]
  },
  {
   "cell_type": "code",
   "execution_count": 160,
   "metadata": {},
   "outputs": [
    {
     "data": {
      "image/png": "[encoded data removed]",
      "text/plain": [
       "<Figure size 640x480 with 1 Axes>"
      ]
     },
     "metadata": {},
     "output_type": "display_data"
    },
    {
     "data": {
      "image/png": "[encoded data removed]",
      "text/plain": [
       "<Figure size 640x480 with 10 Axes>"
      ]
     },
     "metadata": {},
     "output_type": "display_data"
    }
   ],
   "source": [
    "import matplotlib.pyplot as plt\n",
    "plt.imshow(X_train[3],cmap='gray')\n",
    "plt.show()\n",
    "for i in range(10):\n",
    "    plt.subplot(2,5,i+1)\n",
    "    plt.imshow(X_train[i],cmap='gray')\n",
    "    plt.title(y_train[i])\n",
    "    plt.axis('off')\n",
    "plt.show()"
   ]
  },
  {
   "cell_type": "markdown",
   "metadata": {},
   "source": [
    "## Data preprocessing\n",
    "\n",
    "### Feature Engineering\n",
    "\n",
    "* Normalization\n"
   ]
  },
  {
   "cell_type": "code",
   "execution_count": 161,
   "metadata": {},
   "outputs": [
    {
     "name": "stdout",
     "output_type": "stream",
     "text": [
      "pre-normalization data: [[  0   0   0   0   0   0   0   0   0   0   0   0   0   0   0   0   0   0\n",
      "    0   0   0   0   0   0   0   0   0   0]\n",
      " [  0   0   0   0   0   0   0   0   0   0   0   0   0   0   0   0   0   0\n",
      "    0   0   0   0   0   0   0   0   0   0]\n",
      " [  0   0   0   0   0   0   0   0   0   0   0   0   0   0   0   0   0   0\n",
      "    0   0   0   0   0   0   0   0   0   0]\n",
      " [  0   0   0   0   0   0   0   0   0   0   0   0   0   0   0   0   0   0\n",
      "    0   0   0   0   0   0   0   0   0   0]\n",
      " [  0   0   0   0   0   0   0   0   0   0   0   0   0   0   0   0   0   0\n",
      "    0   0   0   0   0   0   0   0   0   0]\n",
      " [  0   0   0   0   0   0   0   0   0   0   0   0   3  18  18  18 126 136\n",
      "  175  26 166 255 247 127   0   0   0   0]\n",
      " [  0   0   0   0   0   0   0   0  30  36  94 154 170 253 253 253 253 253\n",
      "  225 172 253 242 195  64   0   0   0   0]\n",
      " [  0   0   0   0   0   0   0  49 238 253 253 253 253 253 253 253 253 251\n",
      "   93  82  82  56  39   0   0   0   0   0]\n",
      " [  0   0   0   0   0   0   0  18 219 253 253 253 253 253 198 182 247 241\n",
      "    0   0   0   0   0   0   0   0   0   0]\n",
      " [  0   0   0   0   0   0   0   0  80 156 107 253 253 205  11   0  43 154\n",
      "    0   0   0   0   0   0   0   0   0   0]\n",
      " [  0   0   0   0   0   0   0   0   0  14   1 154 253  90   0   0   0   0\n",
      "    0   0   0   0   0   0   0   0   0   0]\n",
      " [  0   0   0   0   0   0   0   0   0   0   0 139 253 190   2   0   0   0\n",
      "    0   0   0   0   0   0   0   0   0   0]\n",
      " [  0   0   0   0   0   0   0   0   0   0   0  11 190 253  70   0   0   0\n",
      "    0   0   0   0   0   0   0   0   0   0]\n",
      " [  0   0   0   0   0   0   0   0   0   0   0   0  35 241 225 160 108   1\n",
      "    0   0   0   0   0   0   0   0   0   0]\n",
      " [  0   0   0   0   0   0   0   0   0   0   0   0   0  81 240 253 253 119\n",
      "   25   0   0   0   0   0   0   0   0   0]\n",
      " [  0   0   0   0   0   0   0   0   0   0   0   0   0   0  45 186 253 253\n",
      "  150  27   0   0   0   0   0   0   0   0]\n",
      " [  0   0   0   0   0   0   0   0   0   0   0   0   0   0   0  16  93 252\n",
      "  253 187   0   0   0   0   0   0   0   0]\n",
      " [  0   0   0   0   0   0   0   0   0   0   0   0   0   0   0   0   0 249\n",
      "  253 249  64   0   0   0   0   0   0   0]\n",
      " [  0   0   0   0   0   0   0   0   0   0   0   0   0   0  46 130 183 253\n",
      "  253 207   2   0   0   0   0   0   0   0]\n",
      " [  0   0   0   0   0   0   0   0   0   0   0   0  39 148 229 253 253 253\n",
      "  250 182   0   0   0   0   0   0   0   0]\n",
      " [  0   0   0   0   0   0   0   0   0   0  24 114 221 253 253 253 253 201\n",
      "   78   0   0   0   0   0   0   0   0   0]\n",
      " [  0   0   0   0   0   0   0   0  23  66 213 253 253 253 253 198  81   2\n",
      "    0   0   0   0   0   0   0   0   0   0]\n",
      " [  0   0   0   0   0   0  18 171 219 253 253 253 253 195  80   9   0   0\n",
      "    0   0   0   0   0   0   0   0   0   0]\n",
      " [  0   0   0   0  55 172 226 253 253 253 253 244 133  11   0   0   0   0\n",
      "    0   0   0   0   0   0   0   0   0   0]\n",
      " [  0   0   0   0 136 253 253 253 212 135 132  16   0   0   0   0   0   0\n",
      "    0   0   0   0   0   0   0   0   0   0]\n",
      " [  0   0   0   0   0   0   0   0   0   0   0   0   0   0   0   0   0   0\n",
      "    0   0   0   0   0   0   0   0   0   0]\n",
      " [  0   0   0   0   0   0   0   0   0   0   0   0   0   0   0   0   0   0\n",
      "    0   0   0   0   0   0   0   0   0   0]\n",
      " [  0   0   0   0   0   0   0   0   0   0   0   0   0   0   0   0   0   0\n",
      "    0   0   0   0   0   0   0   0   0   0]]\n",
      "post-normalization data: [[0.         0.         0.         0.         0.         0.\n",
      "  0.         0.         0.         0.         0.         0.\n",
      "  0.         0.         0.         0.         0.         0.\n",
      "  0.         0.         0.         0.         0.         0.\n",
      "  0.         0.         0.         0.        ]\n",
      " [0.         0.         0.         0.         0.         0.\n",
      "  0.         0.         0.         0.         0.         0.\n",
      "  0.         0.         0.         0.         0.         0.\n",
      "  0.         0.         0.         0.         0.         0.\n",
      "  0.         0.         0.         0.        ]\n",
      " [0.         0.         0.         0.         0.         0.\n",
      "  0.         0.         0.         0.         0.         0.\n",
      "  0.         0.         0.         0.         0.         0.\n",
      "  0.         0.         0.         0.         0.         0.\n",
      "  0.         0.         0.         0.        ]\n",
      " [0.         0.         0.         0.         0.         0.\n",
      "  0.         0.         0.         0.         0.         0.\n",
      "  0.         0.         0.         0.         0.         0.\n",
      "  0.         0.         0.         0.         0.         0.\n",
      "  0.         0.         0.         0.        ]\n",
      " [0.         0.         0.         0.         0.         0.\n",
      "  0.         0.         0.         0.         0.         0.\n",
      "  0.         0.         0.         0.         0.         0.\n",
      "  0.         0.         0.         0.         0.         0.\n",
      "  0.         0.         0.         0.        ]\n",
      " [0.         0.         0.         0.         0.         0.\n",
      "  0.         0.         0.         0.         0.         0.\n",
      "  0.01176471 0.07058824 0.07058824 0.07058824 0.49411765 0.53333336\n",
      "  0.6862745  0.10196079 0.6509804  1.         0.96862745 0.49803922\n",
      "  0.         0.         0.         0.        ]\n",
      " [0.         0.         0.         0.         0.         0.\n",
      "  0.         0.         0.11764706 0.14117648 0.36862746 0.6039216\n",
      "  0.6666667  0.99215686 0.99215686 0.99215686 0.99215686 0.99215686\n",
      "  0.88235295 0.6745098  0.99215686 0.9490196  0.7647059  0.2509804\n",
      "  0.         0.         0.         0.        ]\n",
      " [0.         0.         0.         0.         0.         0.\n",
      "  0.         0.19215687 0.93333334 0.99215686 0.99215686 0.99215686\n",
      "  0.99215686 0.99215686 0.99215686 0.99215686 0.99215686 0.9843137\n",
      "  0.3647059  0.32156864 0.32156864 0.21960784 0.15294118 0.\n",
      "  0.         0.         0.         0.        ]\n",
      " [0.         0.         0.         0.         0.         0.\n",
      "  0.         0.07058824 0.85882354 0.99215686 0.99215686 0.99215686\n",
      "  0.99215686 0.99215686 0.7764706  0.7137255  0.96862745 0.94509804\n",
      "  0.         0.         0.         0.         0.         0.\n",
      "  0.         0.         0.         0.        ]\n",
      " [0.         0.         0.         0.         0.         0.\n",
      "  0.         0.         0.3137255  0.6117647  0.41960785 0.99215686\n",
      "  0.99215686 0.8039216  0.04313726 0.         0.16862746 0.6039216\n",
      "  0.         0.         0.         0.         0.         0.\n",
      "  0.         0.         0.         0.        ]\n",
      " [0.         0.         0.         0.         0.         0.\n",
      "  0.         0.         0.         0.05490196 0.00392157 0.6039216\n",
      "  0.99215686 0.3529412  0.         0.         0.         0.\n",
      "  0.         0.         0.         0.         0.         0.\n",
      "  0.         0.         0.         0.        ]\n",
      " [0.         0.         0.         0.         0.         0.\n",
      "  0.         0.         0.         0.         0.         0.54509807\n",
      "  0.99215686 0.74509805 0.00784314 0.         0.         0.\n",
      "  0.         0.         0.         0.         0.         0.\n",
      "  0.         0.         0.         0.        ]\n",
      " [0.         0.         0.         0.         0.         0.\n",
      "  0.         0.         0.         0.         0.         0.04313726\n",
      "  0.74509805 0.99215686 0.27450982 0.         0.         0.\n",
      "  0.         0.         0.         0.         0.         0.\n",
      "  0.         0.         0.         0.        ]\n",
      " [0.         0.         0.         0.         0.         0.\n",
      "  0.         0.         0.         0.         0.         0.\n",
      "  0.13725491 0.94509804 0.88235295 0.627451   0.42352942 0.00392157\n",
      "  0.         0.         0.         0.         0.         0.\n",
      "  0.         0.         0.         0.        ]\n",
      " [0.         0.         0.         0.         0.         0.\n",
      "  0.         0.         0.         0.         0.         0.\n",
      "  0.         0.31764707 0.9411765  0.99215686 0.99215686 0.46666667\n",
      "  0.09803922 0.         0.         0.         0.         0.\n",
      "  0.         0.         0.         0.        ]\n",
      " [0.         0.         0.         0.         0.         0.\n",
      "  0.         0.         0.         0.         0.         0.\n",
      "  0.         0.         0.1764706  0.7294118  0.99215686 0.99215686\n",
      "  0.5882353  0.10588235 0.         0.         0.         0.\n",
      "  0.         0.         0.         0.        ]\n",
      " [0.         0.         0.         0.         0.         0.\n",
      "  0.         0.         0.         0.         0.         0.\n",
      "  0.         0.         0.         0.0627451  0.3647059  0.9882353\n",
      "  0.99215686 0.73333335 0.         0.         0.         0.\n",
      "  0.         0.         0.         0.        ]\n",
      " [0.         0.         0.         0.         0.         0.\n",
      "  0.         0.         0.         0.         0.         0.\n",
      "  0.         0.         0.         0.         0.         0.9764706\n",
      "  0.99215686 0.9764706  0.2509804  0.         0.         0.\n",
      "  0.         0.         0.         0.        ]\n",
      " [0.         0.         0.         0.         0.         0.\n",
      "  0.         0.         0.         0.         0.         0.\n",
      "  0.         0.         0.18039216 0.50980395 0.7176471  0.99215686\n",
      "  0.99215686 0.8117647  0.00784314 0.         0.         0.\n",
      "  0.         0.         0.         0.        ]\n",
      " [0.         0.         0.         0.         0.         0.\n",
      "  0.         0.         0.         0.         0.         0.\n",
      "  0.15294118 0.5803922  0.8980392  0.99215686 0.99215686 0.99215686\n",
      "  0.98039216 0.7137255  0.         0.         0.         0.\n",
      "  0.         0.         0.         0.        ]\n",
      " [0.         0.         0.         0.         0.         0.\n",
      "  0.         0.         0.         0.         0.09411765 0.44705883\n",
      "  0.8666667  0.99215686 0.99215686 0.99215686 0.99215686 0.7882353\n",
      "  0.30588236 0.         0.         0.         0.         0.\n",
      "  0.         0.         0.         0.        ]\n",
      " [0.         0.         0.         0.         0.         0.\n",
      "  0.         0.         0.09019608 0.25882354 0.8352941  0.99215686\n",
      "  0.99215686 0.99215686 0.99215686 0.7764706  0.31764707 0.00784314\n",
      "  0.         0.         0.         0.         0.         0.\n",
      "  0.         0.         0.         0.        ]\n",
      " [0.         0.         0.         0.         0.         0.\n",
      "  0.07058824 0.67058825 0.85882354 0.99215686 0.99215686 0.99215686\n",
      "  0.99215686 0.7647059  0.3137255  0.03529412 0.         0.\n",
      "  0.         0.         0.         0.         0.         0.\n",
      "  0.         0.         0.         0.        ]\n",
      " [0.         0.         0.         0.         0.21568628 0.6745098\n",
      "  0.8862745  0.99215686 0.99215686 0.99215686 0.99215686 0.95686275\n",
      "  0.52156866 0.04313726 0.         0.         0.         0.\n",
      "  0.         0.         0.         0.         0.         0.\n",
      "  0.         0.         0.         0.        ]\n",
      " [0.         0.         0.         0.         0.53333336 0.99215686\n",
      "  0.99215686 0.99215686 0.83137256 0.5294118  0.5176471  0.0627451\n",
      "  0.         0.         0.         0.         0.         0.\n",
      "  0.         0.         0.         0.         0.         0.\n",
      "  0.         0.         0.         0.        ]\n",
      " [0.         0.         0.         0.         0.         0.\n",
      "  0.         0.         0.         0.         0.         0.\n",
      "  0.         0.         0.         0.         0.         0.\n",
      "  0.         0.         0.         0.         0.         0.\n",
      "  0.         0.         0.         0.        ]\n",
      " [0.         0.         0.         0.         0.         0.\n",
      "  0.         0.         0.         0.         0.         0.\n",
      "  0.         0.         0.         0.         0.         0.\n",
      "  0.         0.         0.         0.         0.         0.\n",
      "  0.         0.         0.         0.        ]\n",
      " [0.         0.         0.         0.         0.         0.\n",
      "  0.         0.         0.         0.         0.         0.\n",
      "  0.         0.         0.         0.         0.         0.\n",
      "  0.         0.         0.         0.         0.         0.\n",
      "  0.         0.         0.         0.        ]]\n"
     ]
    }
   ],
   "source": [
    "print('pre-normalization data:',X_train[0])\n",
    "X_train = X_train.astype('float32')/255\n",
    "X_text = X_test.astype('float32')/255\n",
    "print('post-normalization data:',X_train[0])"
   ]
  },
  {
   "cell_type": "markdown",
   "metadata": {},
   "source": [
    "* Reshape the dataset to be 4D\n",
    "  * `batch_size`: the number of training examples processed\n",
    "  * `height`/`width`: height/width of each input image in pixels\n",
    "  * `channels`: number of color channels\n"
   ]
  },
  {
   "cell_type": "code",
   "execution_count": 162,
   "metadata": {},
   "outputs": [],
   "source": [
    "\n",
    "X_train = np.expand_dims(X_train,axis=-1)\n",
    "X_test = np.expand_dims(X_test, axis=-1)"
   ]
  },
  {
   "cell_type": "markdown",
   "metadata": {},
   "source": [
    "* [One hot encoding](https://blog.gopenai.com/one-hot-encoding-for-ml-with-tensorflow-and-keras-50f67ca9681a) using the `to_categorial` function. It converts the data into an integer. In this particular case, the best choice for this dataset would be to apply *sparse categorical crossentropy loss*— for the simple reason that we don’t have to apply one-hot encoding if we use that loss function. However, for the sake of training, we will apply here one hot encoding to use *categorical crossentropy loss*."
   ]
  },
  {
   "cell_type": "code",
   "execution_count": 163,
   "metadata": {},
   "outputs": [
    {
     "name": "stdout",
     "output_type": "stream",
     "text": [
      "(10000,)\n",
      "[7 2 1 ... 4 5 6]\n",
      "(10000, 10)\n",
      "[[0. 0. 0. ... 1. 0. 0.]\n",
      " [0. 0. 1. ... 0. 0. 0.]\n",
      " [0. 1. 0. ... 0. 0. 0.]\n",
      " ...\n",
      " [0. 0. 0. ... 0. 0. 0.]\n",
      " [0. 0. 0. ... 0. 0. 0.]\n",
      " [0. 0. 0. ... 0. 0. 0.]]\n"
     ]
    }
   ],
   "source": [
    "print(y_test.shape)\n",
    "print(y_test)\n",
    "y_train = to_categorical(y_train)\n",
    "y_test = to_categorical(y_test)\n",
    "print(y_test.shape)\n",
    "print(y_test)"
   ]
  },
  {
   "cell_type": "markdown",
   "metadata": {},
   "source": [
    "## Build a CNN model"
   ]
  },
  {
   "cell_type": "markdown",
   "metadata": {},
   "source": [
    "### Define the model architecture\n",
    "\n",
    "* 4 layers (2 [convolutional](https://www.tensorflow.org/api_docs/python/tf/keras/layers/Conv2D) and 2 Maxpooling)\n",
    "* 1 flattening layer\n",
    "* 1 fully connected layer"
   ]
  },
  {
   "cell_type": "code",
   "execution_count": 164,
   "metadata": {},
   "outputs": [],
   "source": [
    "model = Sequential()\n",
    "# first layer with 32 filters and a filter size of (3,3)\n",
    "model.add(Conv2D(32,(3,3),activation='relu',input_shape=X_train.shape[1:]))\n",
    "# we reduce the size to half with the MaxPooling layer\n",
    "model.add(MaxPooling2D((2,2)))\n",
    "# the third layer uses 64 filters\n",
    "model.add(Conv2D(64,(3,3),activation='relu'))\n",
    "model.add(MaxPooling2D(2,2))\n",
    "# convert the 2D map to a 1D vector\n",
    "model.add(Flatten())\n",
    "# fully connected layer with 10 output units, as the categories we have. Linear transformation followed by a softmax to finally select one category\n",
    "model.add(Dense(10,activation='softmax'))"
   ]
  },
  {
   "cell_type": "markdown",
   "metadata": {},
   "source": [
    "Compile the model. We will use the Adam optimizer (Adam optimization is a stochastic gradient descent method that is based on adaptive estimation of first-order and second-order moments.)"
   ]
  },
  {
   "cell_type": "code",
   "execution_count": 165,
   "metadata": {},
   "outputs": [
    {
     "name": "stdout",
     "output_type": "stream",
     "text": [
      "Model: \"sequential_5\"\n",
      "_________________________________________________________________\n",
      " Layer (type)                Output Shape              Param #   \n",
      "=================================================================\n",
      " conv2d_10 (Conv2D)          (None, 26, 26, 32)        320       \n",
      "                                                                 \n",
      " max_pooling2d_10 (MaxPoolin  (None, 13, 13, 32)       0         \n",
      " g2D)                                                            \n",
      "                                                                 \n",
      " conv2d_11 (Conv2D)          (None, 11, 11, 64)        18496     \n",
      "                                                                 \n",
      " max_pooling2d_11 (MaxPoolin  (None, 5, 5, 64)         0         \n",
      " g2D)                                                            \n",
      "                                                                 \n",
      " flatten_5 (Flatten)         (None, 1600)              0         \n",
      "                                                                 \n",
      " dense_5 (Dense)             (None, 10)                16010     \n",
      "                                                                 \n",
      "=================================================================\n",
      "Total params: 34,826\n",
      "Trainable params: 34,826\n",
      "Non-trainable params: 0\n",
      "_________________________________________________________________\n"
     ]
    }
   ],
   "source": [
    "model.compile(optimizer='adam', loss='categorical_crossentropy',metrics=['accuracy'])\n",
    "model.summary()"
   ]
  },
  {
   "cell_type": "markdown",
   "metadata": {},
   "source": [
    "let us have a look at the different kernels"
   ]
  },
  {
   "cell_type": "code",
   "execution_count": 166,
   "metadata": {},
   "outputs": [
    {
     "name": "stdout",
     "output_type": "stream",
     "text": [
      "<tf.Variable 'conv2d_10/kernel:0' shape=(3, 3, 1, 32) dtype=float32, numpy=\n",
      "array([[[[-0.09895009,  0.12586771,  0.0380891 ,  0.01202892,\n",
      "           0.12914778, -0.10574912, -0.08778048, -0.12628773,\n",
      "          -0.05951766,  0.08407287, -0.0634855 , -0.1352705 ,\n",
      "          -0.01566178, -0.05151564, -0.13294259,  0.03796636,\n",
      "          -0.12008007,  0.1365638 , -0.05711549,  0.05514371,\n",
      "          -0.11983944, -0.0225997 ,  0.10617192, -0.02577193,\n",
      "           0.10914858,  0.03174204,  0.04436368,  0.10029989,\n",
      "          -0.00344543, -0.12739943, -0.01344968, -0.13784151]],\n",
      "\n",
      "        [[ 0.1044555 ,  0.01781902,  0.02199383, -0.12023012,\n",
      "          -0.04995723, -0.00367288, -0.06849337,  0.01848941,\n",
      "           0.01262161, -0.1155962 ,  0.08964667,  0.05011003,\n",
      "           0.10364786,  0.12845232, -0.00018822, -0.10542786,\n",
      "          -0.03088594, -0.01458508,  0.05325902, -0.0919062 ,\n",
      "           0.08324015, -0.05581184,  0.00665845,  0.06352873,\n",
      "          -0.12388057,  0.05809985, -0.06612539, -0.12414286,\n",
      "           0.14141409, -0.00494799, -0.12790981, -0.03598612]],\n",
      "\n",
      "        [[ 0.04581521, -0.07237835,  0.122537  ,  0.07803324,\n",
      "          -0.03324141,  0.10070105, -0.12261034, -0.02228971,\n",
      "          -0.07425734, -0.08277173,  0.10691352, -0.01564278,\n",
      "           0.07159978,  0.02291042, -0.10113938, -0.09534051,\n",
      "           0.11786063, -0.04811325,  0.04364344,  0.06490077,\n",
      "          -0.13015525,  0.05736391, -0.12330431, -0.03000768,\n",
      "          -0.04355045, -0.1410942 ,  0.02121533,  0.01902649,\n",
      "           0.12632544,  0.12829109, -0.01026858,  0.03481422]]],\n",
      "\n",
      "\n",
      "       [[[-0.0494396 , -0.0752219 , -0.06591143, -0.10917176,\n",
      "           0.10545084,  0.01733789, -0.13710317,  0.1111335 ,\n",
      "           0.10135433,  0.1318127 , -0.12391039, -0.07948185,\n",
      "          -0.08952697,  0.07306843,  0.00848579, -0.13669568,\n",
      "           0.13269727, -0.07780344,  0.02013081, -0.01434167,\n",
      "          -0.12951505,  0.00056501,  0.09779501,  0.09877306,\n",
      "           0.04442902,  0.13052408, -0.10644113, -0.07167461,\n",
      "           0.03224258, -0.04352717, -0.11932113, -0.12933598]],\n",
      "\n",
      "        [[ 0.13882212, -0.07661294,  0.00019407, -0.13557984,\n",
      "           0.13860996,  0.08124253, -0.05829108,  0.02636787,\n",
      "          -0.1311023 , -0.07926433, -0.05270837, -0.04864335,\n",
      "          -0.0833018 , -0.08937486, -0.01859646, -0.13864338,\n",
      "          -0.03041233, -0.13597469,  0.08232138, -0.05071139,\n",
      "           0.01489955, -0.04154066, -0.09169257,  0.00554638,\n",
      "           0.08752179, -0.04777888,  0.06193843,  0.06657389,\n",
      "          -0.06164562,  0.05469333, -0.0379913 , -0.09331889]],\n",
      "\n",
      "        [[-0.13945228,  0.06250486,  0.01879981,  0.10530882,\n",
      "          -0.08408684,  0.12102322, -0.0031729 ,  0.06922194,\n",
      "          -0.14191921, -0.08229256,  0.08824918,  0.05468214,\n",
      "          -0.13850729,  0.04427947, -0.04206511,  0.1289305 ,\n",
      "          -0.1413071 ,  0.01568568,  0.03731698, -0.0540168 ,\n",
      "           0.1370352 ,  0.01460253,  0.00485477,  0.10106911,\n",
      "           0.03995131, -0.03578801,  0.06230421,  0.12457784,\n",
      "          -0.13088125, -0.10117425, -0.03420562, -0.11208107]]],\n",
      "\n",
      "\n",
      "       [[[ 0.07064965,  0.14065818, -0.08396657,  0.12251942,\n",
      "          -0.02667737,  0.0331874 , -0.03735703, -0.09184226,\n",
      "          -0.06954954,  0.02473074,  0.12200554,  0.07250912,\n",
      "           0.0499797 ,  0.09096909, -0.08950579,  0.01585981,\n",
      "          -0.11281388, -0.00487344,  0.06820621, -0.00553454,\n",
      "           0.10003093,  0.01298146,  0.06299053,  0.02478582,\n",
      "           0.10044968,  0.02354845, -0.13075247, -0.10080972,\n",
      "           0.11604194, -0.12947954, -0.01883679, -0.11579908]],\n",
      "\n",
      "        [[ 0.13728805, -0.04272956,  0.14167635,  0.12383692,\n",
      "          -0.01789533,  0.05001877, -0.1414604 ,  0.08378917,\n",
      "          -0.0806348 , -0.12545836,  0.00213839, -0.10381106,\n",
      "          -0.04458683,  0.10421723,  0.02246086, -0.10079668,\n",
      "          -0.01043259,  0.06046413,  0.13578625, -0.08540718,\n",
      "          -0.09007822,  0.03847091, -0.127811  ,  0.05932152,\n",
      "          -0.02629966,  0.11671863, -0.03295324, -0.06803745,\n",
      "          -0.07679966,  0.13353588, -0.0094661 ,  0.07449451]],\n",
      "\n",
      "        [[-0.06944998, -0.00788565, -0.1298912 ,  0.06547743,\n",
      "           0.01294161,  0.00751157, -0.01091671, -0.11712811,\n",
      "           0.14066078, -0.11277209,  0.07537003, -0.10142763,\n",
      "          -0.14138626,  0.13648792, -0.12313952, -0.02407242,\n",
      "          -0.03571892, -0.12671266, -0.08116221, -0.1243188 ,\n",
      "           0.0781642 ,  0.06915593, -0.04189218, -0.14081404,\n",
      "          -0.01319095, -0.07411169,  0.11723723,  0.09031115,\n",
      "          -0.08744581,  0.00793615,  0.07459949,  0.12490498]]]],\n",
      "      dtype=float32)>\n",
      "<tf.Variable 'conv2d_11/kernel:0' shape=(3, 3, 32, 64) dtype=float32, numpy=\n",
      "array([[[[-4.16762643e-02,  2.10985169e-02, -2.89490819e-02, ...,\n",
      "           1.03016123e-02,  4.83668819e-02,  1.39474869e-04],\n",
      "         [ 4.41271290e-02, -7.52920732e-02,  6.50372282e-02, ...,\n",
      "           8.27679858e-02, -3.65404487e-02,  1.91412568e-02],\n",
      "         [-2.65458450e-02,  2.25330964e-02,  1.06100067e-02, ...,\n",
      "           4.73350063e-02, -7.34127164e-02,  3.08410525e-02],\n",
      "         ...,\n",
      "         [-3.32056694e-02, -4.15606312e-02, -5.52277975e-02, ...,\n",
      "           3.22143435e-02, -3.41898799e-02, -1.25345960e-02],\n",
      "         [-6.04166016e-02,  2.58575678e-02,  1.09168142e-03, ...,\n",
      "          -3.51947173e-02,  5.89659885e-02, -7.12451786e-02],\n",
      "         [-6.65354729e-02, -6.62174076e-03,  4.40722927e-02, ...,\n",
      "          -6.12492189e-02, -2.03183070e-02, -1.42697468e-02]],\n",
      "\n",
      "        [[-2.31087208e-04,  7.11072311e-02,  7.63563290e-02, ...,\n",
      "          -7.98781961e-03, -6.51046261e-02, -4.71491441e-02],\n",
      "         [ 7.72343054e-02,  7.22528920e-02,  8.53121281e-03, ...,\n",
      "           7.19631985e-02, -1.46481618e-02,  7.58097842e-02],\n",
      "         [ 4.67678085e-02, -5.62005453e-02,  1.32442713e-02, ...,\n",
      "          -2.70291790e-02, -3.70434336e-02,  5.60675487e-02],\n",
      "         ...,\n",
      "         [ 6.14380315e-02, -7.40995854e-02,  2.82161832e-02, ...,\n",
      "          -6.61671162e-04,  6.57533184e-02, -5.38772568e-02],\n",
      "         [-7.03414306e-02,  6.55097142e-02,  1.82700530e-02, ...,\n",
      "           3.54517326e-02, -6.76787943e-02, -7.46910572e-02],\n",
      "         [-7.68659115e-02,  7.40897134e-02,  1.40815377e-02, ...,\n",
      "          -7.96452761e-02, -3.69399786e-02, -6.86122179e-02]],\n",
      "\n",
      "        [[ 3.70146856e-02,  4.47841063e-02, -6.71734437e-02, ...,\n",
      "          -1.65015087e-02,  1.31024495e-02,  4.54078987e-02],\n",
      "         [ 1.65920258e-02, -8.18148851e-02,  1.98975205e-02, ...,\n",
      "           7.17238337e-03,  4.59804013e-02,  5.58696762e-02],\n",
      "         [-6.84202537e-02,  2.65934467e-02, -5.39822988e-02, ...,\n",
      "           2.89379358e-02, -5.39753847e-02,  5.48177585e-02],\n",
      "         ...,\n",
      "         [ 7.61243477e-02, -5.46800308e-02, -4.19492945e-02, ...,\n",
      "          -8.17145109e-02, -7.78471455e-02,  4.90439907e-02],\n",
      "         [-7.01976418e-02,  2.66548619e-02, -4.89623360e-02, ...,\n",
      "           3.99484858e-02, -8.06613564e-02,  1.85202360e-02],\n",
      "         [ 1.38485432e-02,  4.88412157e-02,  8.25715438e-02, ...,\n",
      "          -5.65263443e-02,  8.02947953e-02, -6.46613538e-04]]],\n",
      "\n",
      "\n",
      "       [[[ 3.26135755e-02, -2.66078934e-02, -2.66960077e-02, ...,\n",
      "           7.55619183e-02,  4.90284339e-02,  6.32336959e-02],\n",
      "         [-2.95128226e-02,  1.33370161e-02,  1.42486319e-02, ...,\n",
      "          -7.07011074e-02, -6.44686073e-02, -5.09545021e-02],\n",
      "         [ 2.42300853e-02,  2.62086168e-02,  7.12150708e-02, ...,\n",
      "          -1.66959167e-02, -5.02682552e-02,  7.77819008e-03],\n",
      "         ...,\n",
      "         [-8.28705877e-02,  3.92897502e-02,  6.60049990e-02, ...,\n",
      "           7.81886056e-02,  3.69054452e-02, -4.68926430e-02],\n",
      "         [ 1.87538564e-04,  3.84567603e-02,  7.54197910e-02, ...,\n",
      "          -5.97773790e-02,  3.11388820e-03,  5.69864288e-02],\n",
      "         [ 5.49652949e-02, -2.97829732e-02,  3.16342339e-02, ...,\n",
      "           8.13803822e-03,  1.45540237e-02, -3.50398421e-02]],\n",
      "\n",
      "        [[ 2.92416662e-03,  5.14582023e-02, -1.85672268e-02, ...,\n",
      "          -4.67610359e-03, -3.75786424e-02,  2.46220455e-02],\n",
      "         [ 7.61094168e-02, -1.08678117e-02, -7.71685690e-02, ...,\n",
      "          -3.69532108e-02,  3.05473804e-03,  5.49299493e-02],\n",
      "         [-2.28015333e-03, -6.61610961e-02, -1.46253332e-02, ...,\n",
      "           1.69435516e-02, -1.72121301e-02, -7.32547045e-03],\n",
      "         ...,\n",
      "         [ 5.72304800e-02,  6.69902936e-02, -2.60406360e-02, ...,\n",
      "          -3.53982262e-02,  8.32801238e-02, -5.90230636e-02],\n",
      "         [-6.47376403e-02,  5.87680191e-03, -7.04736933e-02, ...,\n",
      "           4.07241285e-04, -4.47552204e-02,  5.56218401e-02],\n",
      "         [ 4.05249372e-02,  4.76715639e-02, -3.27413306e-02, ...,\n",
      "           1.70387998e-02,  1.27893686e-03, -6.81309924e-02]],\n",
      "\n",
      "        [[-2.63661742e-02,  7.17655495e-02, -1.13498569e-02, ...,\n",
      "           3.80775109e-02,  1.46398172e-02,  2.85312906e-02],\n",
      "         [ 5.80138788e-02,  3.02547440e-02, -4.68079261e-02, ...,\n",
      "          -1.04384199e-02,  2.25967541e-02,  2.90893093e-02],\n",
      "         [ 8.26673880e-02,  2.36128569e-02, -3.90981846e-02, ...,\n",
      "           2.78111547e-03,  5.30982390e-02, -5.02269268e-02],\n",
      "         ...,\n",
      "         [-4.93777394e-02, -3.56587023e-03, -5.62772751e-02, ...,\n",
      "          -5.75698838e-02, -7.85811767e-02, -7.87101239e-02],\n",
      "         [-2.23819241e-02,  7.09790066e-02, -2.27273330e-02, ...,\n",
      "           5.28835431e-02, -2.71080360e-02, -2.66892724e-02],\n",
      "         [-2.86516175e-02, -7.18727708e-02,  5.88801876e-02, ...,\n",
      "          -7.55929351e-02,  8.14667419e-02, -6.93788752e-02]]],\n",
      "\n",
      "\n",
      "       [[[ 8.86026770e-03,  3.95695344e-02, -6.90134764e-02, ...,\n",
      "          -7.96072111e-02, -5.41725568e-02,  5.37660196e-02],\n",
      "         [ 1.93216428e-02, -8.55533034e-03,  1.47373453e-02, ...,\n",
      "           7.59888664e-02, -7.56972879e-02, -3.36963534e-02],\n",
      "         [ 7.85459504e-02, -5.45250587e-02, -2.90186405e-02, ...,\n",
      "           8.25486407e-02, -2.61187553e-02,  4.73964885e-02],\n",
      "         ...,\n",
      "         [ 1.47990361e-02,  7.51151890e-03,  1.48547664e-02, ...,\n",
      "          -1.07978806e-02,  6.46033362e-02,  5.78679219e-02],\n",
      "         [ 7.81540498e-02,  4.83069494e-02,  4.07679901e-02, ...,\n",
      "          -7.86303729e-02, -2.08194852e-02,  2.10275427e-02],\n",
      "         [-1.80603042e-02,  1.79257244e-03, -6.85494989e-02, ...,\n",
      "          -5.71457744e-02,  2.97464356e-02,  4.89480123e-02]],\n",
      "\n",
      "        [[ 7.78546557e-02, -3.47024016e-02, -2.43923068e-02, ...,\n",
      "           1.98934078e-02, -1.79194435e-02, -2.85144262e-02],\n",
      "         [ 2.60332972e-03,  4.93651256e-02,  5.70007041e-02, ...,\n",
      "           4.59924340e-05,  1.55155659e-02,  7.27480873e-02],\n",
      "         [ 1.06346235e-02, -9.63427126e-04,  6.95583001e-02, ...,\n",
      "          -7.35906363e-02, -4.90204692e-02,  5.23250327e-02],\n",
      "         ...,\n",
      "         [ 6.92921057e-02,  2.42015347e-02,  3.66410241e-02, ...,\n",
      "          -4.74430919e-02, -6.35430440e-02,  5.97349182e-02],\n",
      "         [ 7.97136053e-02, -5.20447306e-02,  7.19194487e-02, ...,\n",
      "          -1.57673359e-02, -6.62750453e-02,  4.29884568e-02],\n",
      "         [-3.37708220e-02,  4.36807498e-02, -3.64715271e-02, ...,\n",
      "           6.72193244e-02, -3.14079225e-04, -7.27692246e-02]],\n",
      "\n",
      "        [[-7.90413469e-03,  1.48657709e-03, -5.78440428e-02, ...,\n",
      "          -4.74560857e-02, -1.54495239e-03, -3.04916725e-02],\n",
      "         [-7.58713111e-02, -5.10669574e-02, -8.31649154e-02, ...,\n",
      "           6.58161417e-02, -2.86743641e-02,  3.62172946e-02],\n",
      "         [ 1.12231597e-02, -4.97907400e-02, -7.67799243e-02, ...,\n",
      "          -3.32058072e-02, -2.84564905e-02,  4.24181446e-02],\n",
      "         ...,\n",
      "         [ 7.07747117e-02,  5.66356853e-02,  1.64313316e-02, ...,\n",
      "          -3.61721516e-02, -3.00713405e-02,  4.91903201e-02],\n",
      "         [-2.39445381e-02,  1.44480094e-02,  5.45903295e-03, ...,\n",
      "           4.34828475e-02,  7.90765658e-02,  3.71918306e-02],\n",
      "         [-8.09820294e-02,  7.39369169e-02, -3.54158878e-02, ...,\n",
      "           7.00723752e-02, -4.15962934e-02,  1.97359100e-02]]]],\n",
      "      dtype=float32)>\n"
     ]
    }
   ],
   "source": [
    "print(model.layers[0].kernel)\n",
    "print(model.layers[2].kernel)\n"
   ]
  },
  {
   "cell_type": "markdown",
   "metadata": {},
   "source": [
    "## Train the model\n",
    "\n",
    "* batch_size:\n",
    "* epochs: number of iterations"
   ]
  },
  {
   "cell_type": "code",
   "execution_count": 167,
   "metadata": {},
   "outputs": [
    {
     "name": "stdout",
     "output_type": "stream",
     "text": [
      "Epoch 1/10\n"
     ]
    },
    {
     "name": "stdout",
     "output_type": "stream",
     "text": [
      "469/469 [==============================] - ETA: 0s - loss: 0.2819 - accuracy: 0.9196"
     ]
    }
   ],
   "source": [
    "model.fit(X_train,y_train,batch_size=128, epochs=10, validation_data=(X_test,y_test))"
   ]
  },
  {
   "cell_type": "markdown",
   "metadata": {},
   "source": [
    "## Model accuracy\n",
    "\n"
   ]
  },
  {
   "cell_type": "code",
   "execution_count": null,
   "metadata": {},
   "outputs": [
    {
     "name": "stdout",
     "output_type": "stream",
     "text": [
      "313/313 - 1s - loss: 8.3964 - accuracy: 0.9877 - 1s/epoch - 4ms/step\n",
      "Test accuracy: 0.9876999855041504\n"
     ]
    }
   ],
   "source": [
    "test_loss, test_acc = model.evaluate(X_test,y_test,verbose=2)\n",
    "print('Test accuracy:',test_acc)\n",
    "print('Test loss:',test_loss)"
   ]
  },
  {
   "cell_type": "code",
   "execution_count": null,
   "metadata": {},
   "outputs": [],
   "source": [
    "y_pred = model.predict(X_test)"
   ]
  }
 ],
 "metadata": {
  "kernelspec": {
   "display_name": "base",
   "language": "python",
   "name": "python3"
  },
  "language_info": {
   "codemirror_mode": {
    "name": "ipython",
    "version": 3
   },
   "file_extension": ".py",
   "mimetype": "text/x-python",
   "name": "python",
   "nbconvert_exporter": "python",
   "pygments_lexer": "ipython3",
   "version": "3.11.5"
  },
  "orig_nbformat": 4
 },
 "nbformat": 4,
 "nbformat_minor": 2
}
