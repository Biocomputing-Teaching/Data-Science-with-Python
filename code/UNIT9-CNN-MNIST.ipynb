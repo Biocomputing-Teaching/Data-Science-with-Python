{
 "cells": [
  {
   "cell_type": "markdown",
   "metadata": {},
   "source": [
    "# UNIT 9. Convolutional Neural Networks on the MNIST dataset\n",
    "\n",
    "This Unit includes an implementation of a CNN to calssify digits from the [MNIST dataset](https://en.wikipedia.org/wiki/MNIST_database). Code adapted from "
   ]
  },
  {
   "cell_type": "markdown",
   "metadata": {},
   "source": [
    "```{bibliography}\n",
    ":style: unsrt\n",
    "```"
   ]
  },
  {
   "cell_type": "markdown",
   "metadata": {},
   "source": [
    "we start by importing:\n",
    "* the dataset *MNIST*\n",
    "* the **[Sequential](https://keras.io/guides/sequential_model/)** function\n",
    "* the differential layers:\n",
    "  * **[Conv2D](https://towardsdatascience.com/conv2d-to-finally-understand-what-happens-in-the-forward-pass-1bbaafb0b148)**: creates the convolutional kernel to produce a set of output features\n",
    "  * **[MaxPooling2D](https://deepai.org/machine-learning-glossary-and-terms/max-pooling)**: downsamples the input by taking the maximum value of the kernel, reducing the dimensionality of the model\n",
    "  * **Flatten**: flattens the input tensor into a one dimensional vector. Useful when transitioning from a CNN to a fully connected CNN\n",
    "  * **Dense**: standard fully connected NN layer. Each neuron in the layer is connected to all neurons in the previous layer. \n",
    "* **to_categorical**"
   ]
  },
  {
   "cell_type": "code",
   "execution_count": 170,
   "metadata": {},
   "outputs": [],
   "source": [
    "import numpy as np\n",
    "from tensorflow.keras.datasets import mnist\n",
    "from tensorflow.keras.models import Sequential\n",
    "from tensorflow.keras.layers import Conv2D,MaxPooling2D,Flatten,Dense\n",
    "from tensorflow.keras.utils import to_categorical, plot_model\n",
    "import matplotlib.pyplot as plt\n",
    "\n"
   ]
  },
  {
   "cell_type": "markdown",
   "metadata": {},
   "source": [
    "let us now load the MNIST dataset"
   ]
  },
  {
   "cell_type": "code",
   "execution_count": 171,
   "metadata": {},
   "outputs": [
    {
     "name": "stdout",
     "output_type": "stream",
     "text": [
      "(60000, 28, 28)\n",
      "(60000,)\n",
      "(10000, 28, 28)\n",
      "(10000,)\n"
     ]
    }
   ],
   "source": [
    "(X_train,y_train),(X_test,y_test) = mnist.load_data()\n",
    "print(X_train.shape)\n",
    "print(y_train.shape)\n",
    "print(X_test.shape)\n",
    "print(y_test.shape)"
   ]
  },
  {
   "cell_type": "markdown",
   "metadata": {},
   "source": [
    "Let us display a collection of sample images"
   ]
  },
  {
   "cell_type": "code",
   "execution_count": 172,
   "metadata": {},
   "outputs": [
    {
     "data": {
      "image/png": "[encoded data removed]",
      "text/plain": [
       "<Figure size 640x480 with 1 Axes>"
      ]
     },
     "metadata": {},
     "output_type": "display_data"
    },
    {
     "data": {
      "image/png": "[encoded data removed]",
      "text/plain": [
       "<Figure size 640x480 with 10 Axes>"
      ]
     },
     "metadata": {},
     "output_type": "display_data"
    }
   ],
   "source": [
    "\n",
    "plt.imshow(X_train[3],cmap='gray')\n",
    "plt.show()\n",
    "for i in range(10):\n",
    "    plt.subplot(2,5,i+1)\n",
    "    plt.imshow(X_train[i],cmap='gray')\n",
    "    plt.title(y_train[i])\n",
    "    plt.axis('off')\n",
    "plt.show()"
   ]
  },
  {
   "cell_type": "markdown",
   "metadata": {},
   "source": [
    "## Data preprocessing\n",
    "\n",
    "### Feature Engineering\n",
    "\n",
    "* Normalization\n"
   ]
  },
  {
   "cell_type": "code",
   "execution_count": 173,
   "metadata": {},
   "outputs": [
    {
     "name": "stdout",
     "output_type": "stream",
     "text": [
      "pre-normalization data: [[  0   0   0   0   0   0   0   0   0   0   0   0   0   0   0   0   0   0\n",
      "    0   0   0   0   0   0   0   0   0   0]\n",
      " [  0   0   0   0   0   0   0   0   0   0   0   0   0   0   0   0   0   0\n",
      "    0   0   0   0   0   0   0   0   0   0]\n",
      " [  0   0   0   0   0   0   0   0   0   0   0   0   0   0   0   0   0   0\n",
      "    0   0   0   0   0   0   0   0   0   0]\n",
      " [  0   0   0   0   0   0   0   0   0   0   0   0   0   0   0   0   0   0\n",
      "    0   0   0   0   0   0   0   0   0   0]\n",
      " [  0   0   0   0   0   0   0   0   0   0   0   0   0   0   0   0   0   0\n",
      "    0   0   0   0   0   0   0   0   0   0]\n",
      " [  0   0   0   0   0   0   0   0   0   0   0   0   3  18  18  18 126 136\n",
      "  175  26 166 255 247 127   0   0   0   0]\n",
      " [  0   0   0   0   0   0   0   0  30  36  94 154 170 253 253 253 253 253\n",
      "  225 172 253 242 195  64   0   0   0   0]\n",
      " [  0   0   0   0   0   0   0  49 238 253 253 253 253 253 253 253 253 251\n",
      "   93  82  82  56  39   0   0   0   0   0]\n",
      " [  0   0   0   0   0   0   0  18 219 253 253 253 253 253 198 182 247 241\n",
      "    0   0   0   0   0   0   0   0   0   0]\n",
      " [  0   0   0   0   0   0   0   0  80 156 107 253 253 205  11   0  43 154\n",
      "    0   0   0   0   0   0   0   0   0   0]\n",
      " [  0   0   0   0   0   0   0   0   0  14   1 154 253  90   0   0   0   0\n",
      "    0   0   0   0   0   0   0   0   0   0]\n",
      " [  0   0   0   0   0   0   0   0   0   0   0 139 253 190   2   0   0   0\n",
      "    0   0   0   0   0   0   0   0   0   0]\n",
      " [  0   0   0   0   0   0   0   0   0   0   0  11 190 253  70   0   0   0\n",
      "    0   0   0   0   0   0   0   0   0   0]\n",
      " [  0   0   0   0   0   0   0   0   0   0   0   0  35 241 225 160 108   1\n",
      "    0   0   0   0   0   0   0   0   0   0]\n",
      " [  0   0   0   0   0   0   0   0   0   0   0   0   0  81 240 253 253 119\n",
      "   25   0   0   0   0   0   0   0   0   0]\n",
      " [  0   0   0   0   0   0   0   0   0   0   0   0   0   0  45 186 253 253\n",
      "  150  27   0   0   0   0   0   0   0   0]\n",
      " [  0   0   0   0   0   0   0   0   0   0   0   0   0   0   0  16  93 252\n",
      "  253 187   0   0   0   0   0   0   0   0]\n",
      " [  0   0   0   0   0   0   0   0   0   0   0   0   0   0   0   0   0 249\n",
      "  253 249  64   0   0   0   0   0   0   0]\n",
      " [  0   0   0   0   0   0   0   0   0   0   0   0   0   0  46 130 183 253\n",
      "  253 207   2   0   0   0   0   0   0   0]\n",
      " [  0   0   0   0   0   0   0   0   0   0   0   0  39 148 229 253 253 253\n",
      "  250 182   0   0   0   0   0   0   0   0]\n",
      " [  0   0   0   0   0   0   0   0   0   0  24 114 221 253 253 253 253 201\n",
      "   78   0   0   0   0   0   0   0   0   0]\n",
      " [  0   0   0   0   0   0   0   0  23  66 213 253 253 253 253 198  81   2\n",
      "    0   0   0   0   0   0   0   0   0   0]\n",
      " [  0   0   0   0   0   0  18 171 219 253 253 253 253 195  80   9   0   0\n",
      "    0   0   0   0   0   0   0   0   0   0]\n",
      " [  0   0   0   0  55 172 226 253 253 253 253 244 133  11   0   0   0   0\n",
      "    0   0   0   0   0   0   0   0   0   0]\n",
      " [  0   0   0   0 136 253 253 253 212 135 132  16   0   0   0   0   0   0\n",
      "    0   0   0   0   0   0   0   0   0   0]\n",
      " [  0   0   0   0   0   0   0   0   0   0   0   0   0   0   0   0   0   0\n",
      "    0   0   0   0   0   0   0   0   0   0]\n",
      " [  0   0   0   0   0   0   0   0   0   0   0   0   0   0   0   0   0   0\n",
      "    0   0   0   0   0   0   0   0   0   0]\n",
      " [  0   0   0   0   0   0   0   0   0   0   0   0   0   0   0   0   0   0\n",
      "    0   0   0   0   0   0   0   0   0   0]]\n",
      "post-normalization data: [[0.         0.         0.         0.         0.         0.\n",
      "  0.         0.         0.         0.         0.         0.\n",
      "  0.         0.         0.         0.         0.         0.\n",
      "  0.         0.         0.         0.         0.         0.\n",
      "  0.         0.         0.         0.        ]\n",
      " [0.         0.         0.         0.         0.         0.\n",
      "  0.         0.         0.         0.         0.         0.\n",
      "  0.         0.         0.         0.         0.         0.\n",
      "  0.         0.         0.         0.         0.         0.\n",
      "  0.         0.         0.         0.        ]\n",
      " [0.         0.         0.         0.         0.         0.\n",
      "  0.         0.         0.         0.         0.         0.\n",
      "  0.         0.         0.         0.         0.         0.\n",
      "  0.         0.         0.         0.         0.         0.\n",
      "  0.         0.         0.         0.        ]\n",
      " [0.         0.         0.         0.         0.         0.\n",
      "  0.         0.         0.         0.         0.         0.\n",
      "  0.         0.         0.         0.         0.         0.\n",
      "  0.         0.         0.         0.         0.         0.\n",
      "  0.         0.         0.         0.        ]\n",
      " [0.         0.         0.         0.         0.         0.\n",
      "  0.         0.         0.         0.         0.         0.\n",
      "  0.         0.         0.         0.         0.         0.\n",
      "  0.         0.         0.         0.         0.         0.\n",
      "  0.         0.         0.         0.        ]\n",
      " [0.         0.         0.         0.         0.         0.\n",
      "  0.         0.         0.         0.         0.         0.\n",
      "  0.01176471 0.07058824 0.07058824 0.07058824 0.49411765 0.53333336\n",
      "  0.6862745  0.10196079 0.6509804  1.         0.96862745 0.49803922\n",
      "  0.         0.         0.         0.        ]\n",
      " [0.         0.         0.         0.         0.         0.\n",
      "  0.         0.         0.11764706 0.14117648 0.36862746 0.6039216\n",
      "  0.6666667  0.99215686 0.99215686 0.99215686 0.99215686 0.99215686\n",
      "  0.88235295 0.6745098  0.99215686 0.9490196  0.7647059  0.2509804\n",
      "  0.         0.         0.         0.        ]\n",
      " [0.         0.         0.         0.         0.         0.\n",
      "  0.         0.19215687 0.93333334 0.99215686 0.99215686 0.99215686\n",
      "  0.99215686 0.99215686 0.99215686 0.99215686 0.99215686 0.9843137\n",
      "  0.3647059  0.32156864 0.32156864 0.21960784 0.15294118 0.\n",
      "  0.         0.         0.         0.        ]\n",
      " [0.         0.         0.         0.         0.         0.\n",
      "  0.         0.07058824 0.85882354 0.99215686 0.99215686 0.99215686\n",
      "  0.99215686 0.99215686 0.7764706  0.7137255  0.96862745 0.94509804\n",
      "  0.         0.         0.         0.         0.         0.\n",
      "  0.         0.         0.         0.        ]\n",
      " [0.         0.         0.         0.         0.         0.\n",
      "  0.         0.         0.3137255  0.6117647  0.41960785 0.99215686\n",
      "  0.99215686 0.8039216  0.04313726 0.         0.16862746 0.6039216\n",
      "  0.         0.         0.         0.         0.         0.\n",
      "  0.         0.         0.         0.        ]\n",
      " [0.         0.         0.         0.         0.         0.\n",
      "  0.         0.         0.         0.05490196 0.00392157 0.6039216\n",
      "  0.99215686 0.3529412  0.         0.         0.         0.\n",
      "  0.         0.         0.         0.         0.         0.\n",
      "  0.         0.         0.         0.        ]\n",
      " [0.         0.         0.         0.         0.         0.\n",
      "  0.         0.         0.         0.         0.         0.54509807\n",
      "  0.99215686 0.74509805 0.00784314 0.         0.         0.\n",
      "  0.         0.         0.         0.         0.         0.\n",
      "  0.         0.         0.         0.        ]\n",
      " [0.         0.         0.         0.         0.         0.\n",
      "  0.         0.         0.         0.         0.         0.04313726\n",
      "  0.74509805 0.99215686 0.27450982 0.         0.         0.\n",
      "  0.         0.         0.         0.         0.         0.\n",
      "  0.         0.         0.         0.        ]\n",
      " [0.         0.         0.         0.         0.         0.\n",
      "  0.         0.         0.         0.         0.         0.\n",
      "  0.13725491 0.94509804 0.88235295 0.627451   0.42352942 0.00392157\n",
      "  0.         0.         0.         0.         0.         0.\n",
      "  0.         0.         0.         0.        ]\n",
      " [0.         0.         0.         0.         0.         0.\n",
      "  0.         0.         0.         0.         0.         0.\n",
      "  0.         0.31764707 0.9411765  0.99215686 0.99215686 0.46666667\n",
      "  0.09803922 0.         0.         0.         0.         0.\n",
      "  0.         0.         0.         0.        ]\n",
      " [0.         0.         0.         0.         0.         0.\n",
      "  0.         0.         0.         0.         0.         0.\n",
      "  0.         0.         0.1764706  0.7294118  0.99215686 0.99215686\n",
      "  0.5882353  0.10588235 0.         0.         0.         0.\n",
      "  0.         0.         0.         0.        ]\n",
      " [0.         0.         0.         0.         0.         0.\n",
      "  0.         0.         0.         0.         0.         0.\n",
      "  0.         0.         0.         0.0627451  0.3647059  0.9882353\n",
      "  0.99215686 0.73333335 0.         0.         0.         0.\n",
      "  0.         0.         0.         0.        ]\n",
      " [0.         0.         0.         0.         0.         0.\n",
      "  0.         0.         0.         0.         0.         0.\n",
      "  0.         0.         0.         0.         0.         0.9764706\n",
      "  0.99215686 0.9764706  0.2509804  0.         0.         0.\n",
      "  0.         0.         0.         0.        ]\n",
      " [0.         0.         0.         0.         0.         0.\n",
      "  0.         0.         0.         0.         0.         0.\n",
      "  0.         0.         0.18039216 0.50980395 0.7176471  0.99215686\n",
      "  0.99215686 0.8117647  0.00784314 0.         0.         0.\n",
      "  0.         0.         0.         0.        ]\n",
      " [0.         0.         0.         0.         0.         0.\n",
      "  0.         0.         0.         0.         0.         0.\n",
      "  0.15294118 0.5803922  0.8980392  0.99215686 0.99215686 0.99215686\n",
      "  0.98039216 0.7137255  0.         0.         0.         0.\n",
      "  0.         0.         0.         0.        ]\n",
      " [0.         0.         0.         0.         0.         0.\n",
      "  0.         0.         0.         0.         0.09411765 0.44705883\n",
      "  0.8666667  0.99215686 0.99215686 0.99215686 0.99215686 0.7882353\n",
      "  0.30588236 0.         0.         0.         0.         0.\n",
      "  0.         0.         0.         0.        ]\n",
      " [0.         0.         0.         0.         0.         0.\n",
      "  0.         0.         0.09019608 0.25882354 0.8352941  0.99215686\n",
      "  0.99215686 0.99215686 0.99215686 0.7764706  0.31764707 0.00784314\n",
      "  0.         0.         0.         0.         0.         0.\n",
      "  0.         0.         0.         0.        ]\n",
      " [0.         0.         0.         0.         0.         0.\n",
      "  0.07058824 0.67058825 0.85882354 0.99215686 0.99215686 0.99215686\n",
      "  0.99215686 0.7647059  0.3137255  0.03529412 0.         0.\n",
      "  0.         0.         0.         0.         0.         0.\n",
      "  0.         0.         0.         0.        ]\n",
      " [0.         0.         0.         0.         0.21568628 0.6745098\n",
      "  0.8862745  0.99215686 0.99215686 0.99215686 0.99215686 0.95686275\n",
      "  0.52156866 0.04313726 0.         0.         0.         0.\n",
      "  0.         0.         0.         0.         0.         0.\n",
      "  0.         0.         0.         0.        ]\n",
      " [0.         0.         0.         0.         0.53333336 0.99215686\n",
      "  0.99215686 0.99215686 0.83137256 0.5294118  0.5176471  0.0627451\n",
      "  0.         0.         0.         0.         0.         0.\n",
      "  0.         0.         0.         0.         0.         0.\n",
      "  0.         0.         0.         0.        ]\n",
      " [0.         0.         0.         0.         0.         0.\n",
      "  0.         0.         0.         0.         0.         0.\n",
      "  0.         0.         0.         0.         0.         0.\n",
      "  0.         0.         0.         0.         0.         0.\n",
      "  0.         0.         0.         0.        ]\n",
      " [0.         0.         0.         0.         0.         0.\n",
      "  0.         0.         0.         0.         0.         0.\n",
      "  0.         0.         0.         0.         0.         0.\n",
      "  0.         0.         0.         0.         0.         0.\n",
      "  0.         0.         0.         0.        ]\n",
      " [0.         0.         0.         0.         0.         0.\n",
      "  0.         0.         0.         0.         0.         0.\n",
      "  0.         0.         0.         0.         0.         0.\n",
      "  0.         0.         0.         0.         0.         0.\n",
      "  0.         0.         0.         0.        ]]\n"
     ]
    }
   ],
   "source": [
    "print('pre-normalization data:',X_train[0])\n",
    "X_train = X_train.astype('float32')/255\n",
    "X_text = X_test.astype('float32')/255\n",
    "print('post-normalization data:',X_train[0])"
   ]
  },
  {
   "cell_type": "markdown",
   "metadata": {},
   "source": [
    "* Reshape the dataset to be 4D\n",
    "  * `batch_size`: the number of training examples processed\n",
    "  * `height`/`width`: height/width of each input image in pixels\n",
    "  * `channels`: number of color channels\n"
   ]
  },
  {
   "cell_type": "code",
   "execution_count": 174,
   "metadata": {},
   "outputs": [],
   "source": [
    "\n",
    "X_train = np.expand_dims(X_train,axis=-1)\n",
    "X_test = np.expand_dims(X_test, axis=-1)"
   ]
  },
  {
   "cell_type": "markdown",
   "metadata": {},
   "source": [
    "* [One hot encoding](https://blog.gopenai.com/one-hot-encoding-for-ml-with-tensorflow-and-keras-50f67ca9681a) using the `to_categorial` function. It converts the data into an integer. In this particular case, the best choice for this dataset would be to apply *sparse categorical crossentropy loss*— for the simple reason that we don’t have to apply one-hot encoding if we use that loss function. However, for the sake of training, we will apply here one hot encoding to use *categorical crossentropy loss*."
   ]
  },
  {
   "cell_type": "code",
   "execution_count": 175,
   "metadata": {},
   "outputs": [
    {
     "name": "stdout",
     "output_type": "stream",
     "text": [
      "(10000,)\n",
      "[7 2 1 ... 4 5 6]\n",
      "(10000, 10)\n",
      "[[0. 0. 0. ... 1. 0. 0.]\n",
      " [0. 0. 1. ... 0. 0. 0.]\n",
      " [0. 1. 0. ... 0. 0. 0.]\n",
      " ...\n",
      " [0. 0. 0. ... 0. 0. 0.]\n",
      " [0. 0. 0. ... 0. 0. 0.]\n",
      " [0. 0. 0. ... 0. 0. 0.]]\n"
     ]
    }
   ],
   "source": [
    "print(y_test.shape)\n",
    "print(y_test)\n",
    "y_train = to_categorical(y_train)\n",
    "y_test = to_categorical(y_test)\n",
    "print(y_test.shape)\n",
    "print(y_test)"
   ]
  },
  {
   "cell_type": "markdown",
   "metadata": {},
   "source": [
    "## Build a CNN model"
   ]
  },
  {
   "cell_type": "markdown",
   "metadata": {},
   "source": [
    "### Define the model architecture\n",
    "\n",
    "* 4 layers (2 [convolutional](https://www.tensorflow.org/api_docs/python/tf/keras/layers/Conv2D) and 2 Maxpooling)\n",
    "* 1 flattening layer\n",
    "* 1 fully connected layer"
   ]
  },
  {
   "cell_type": "code",
   "execution_count": 176,
   "metadata": {},
   "outputs": [],
   "source": [
    "model = Sequential()\n",
    "# first layer with 32 filters and a filter size of (3,3)\n",
    "model.add(Conv2D(32,(3,3),activation='relu',input_shape=X_train.shape[1:]))\n",
    "# we reduce the size to half with the MaxPooling layer\n",
    "model.add(MaxPooling2D((2,2)))\n",
    "# the third layer uses 64 filters\n",
    "model.add(Conv2D(64,(3,3),activation='relu'))\n",
    "model.add(MaxPooling2D(2,2))\n",
    "# convert the 2D map to a 1D vector\n",
    "model.add(Flatten())\n",
    "# fully connected layer with 10 output units, as the categories we have. Linear transformation followed by a softmax to finally select one category\n",
    "model.add(Dense(10,activation='softmax'))"
   ]
  },
  {
   "cell_type": "markdown",
   "metadata": {},
   "source": [
    "Compile the model. We will use the Adam optimizer (Adam optimization is a stochastic gradient descent method that is based on adaptive estimation of first-order and second-order moments.)"
   ]
  },
  {
   "cell_type": "code",
   "execution_count": 177,
   "metadata": {},
   "outputs": [
    {
     "name": "stdout",
     "output_type": "stream",
     "text": [
      "Model: \"sequential_6\"\n",
      "_________________________________________________________________\n",
      " Layer (type)                Output Shape              Param #   \n",
      "=================================================================\n",
      " conv2d_12 (Conv2D)          (None, 26, 26, 32)        320       \n",
      "                                                                 \n",
      " max_pooling2d_12 (MaxPoolin  (None, 13, 13, 32)       0         \n",
      " g2D)                                                            \n",
      "                                                                 \n",
      " conv2d_13 (Conv2D)          (None, 11, 11, 64)        18496     \n",
      "                                                                 \n",
      " max_pooling2d_13 (MaxPoolin  (None, 5, 5, 64)         0         \n",
      " g2D)                                                            \n",
      "                                                                 \n",
      " flatten_6 (Flatten)         (None, 1600)              0         \n",
      "                                                                 \n",
      " dense_6 (Dense)             (None, 10)                16010     \n",
      "                                                                 \n",
      "=================================================================\n",
      "Total params: 34,826\n",
      "Trainable params: 34,826\n",
      "Non-trainable params: 0\n",
      "_________________________________________________________________\n"
     ]
    }
   ],
   "source": [
    "model.compile(optimizer='adam', loss='categorical_crossentropy',metrics=['accuracy'])\n",
    "model.summary()"
   ]
  },
  {
   "cell_type": "code",
   "execution_count": 178,
   "metadata": {},
   "outputs": [
    {
     "name": "stdout",
     "output_type": "stream",
     "text": [
      "You must install pydot (`pip install pydot`) and install graphviz (see instructions at https://graphviz.gitlab.io/download/) for plot_model to work.\n"
     ]
    }
   ],
   "source": [
    "plot_model(model,'model.jpg',show_shapes=True)"
   ]
  },
  {
   "cell_type": "markdown",
   "metadata": {},
   "source": [
    "let us have a look at the different kernels"
   ]
  },
  {
   "cell_type": "code",
   "execution_count": 179,
   "metadata": {},
   "outputs": [
    {
     "name": "stdout",
     "output_type": "stream",
     "text": [
      "<tf.Variable 'conv2d_12/kernel:0' shape=(3, 3, 1, 32) dtype=float32, numpy=\n",
      "array([[[[ 0.0717376 ,  0.12769519,  0.08789454,  0.05253138,\n",
      "          -0.11401037, -0.13674393,  0.14176215, -0.03162821,\n",
      "           0.08083284, -0.11815737, -0.09512089,  0.11325438,\n",
      "          -0.05740895,  0.02741964, -0.03588605,  0.05777355,\n",
      "          -0.01218839, -0.06179042,  0.1334251 , -0.09000895,\n",
      "          -0.09403009,  0.10086344,  0.06635694, -0.0880443 ,\n",
      "           0.13914786,  0.0108107 ,  0.03892626,  0.12062512,\n",
      "          -0.01364759,  0.00382094, -0.04765872, -0.1113653 ]],\n",
      "\n",
      "        [[-0.04247792, -0.01092371,  0.09028479,  0.10562329,\n",
      "          -0.02947589, -0.12216106,  0.11181484, -0.03891839,\n",
      "          -0.06762463,  0.05609684, -0.03396688, -0.13659653,\n",
      "           0.08405785,  0.02790622, -0.03921193, -0.00926368,\n",
      "           0.05148487, -0.03984149,  0.13498177, -0.13713032,\n",
      "          -0.07542631, -0.00471647, -0.12538266,  0.11634909,\n",
      "          -0.11422603,  0.02180572,  0.10012202, -0.09765881,\n",
      "          -0.0627704 , -0.03658996,  0.02599122,  0.02928138]],\n",
      "\n",
      "        [[-0.14183368,  0.02241163,  0.1167203 ,  0.10612147,\n",
      "           0.08080322,  0.13784312, -0.00023985,  0.09635523,\n",
      "          -0.08266414, -0.05851087, -0.13844644,  0.08878958,\n",
      "          -0.06163619,  0.07139483,  0.07589813,  0.1372305 ,\n",
      "           0.09599487, -0.02142467, -0.12904494,  0.08588304,\n",
      "           0.02212006,  0.0544899 , -0.06845541,  0.03424844,\n",
      "          -0.0696881 ,  0.08034517, -0.12978578, -0.05271877,\n",
      "          -0.01421937,  0.05641118, -0.06887304,  0.09903769]]],\n",
      "\n",
      "\n",
      "       [[[ 0.00750405, -0.10019352, -0.0126614 ,  0.08621265,\n",
      "          -0.05683456, -0.09543885,  0.04896009,  0.05265257,\n",
      "           0.08727549, -0.13413891, -0.05991025, -0.13371213,\n",
      "           0.09343459, -0.04348569, -0.0238576 , -0.04538105,\n",
      "           0.03524897,  0.03026475,  0.13681965,  0.04918934,\n",
      "           0.01171739,  0.11533745, -0.08679324,  0.01261622,\n",
      "          -0.10204272,  0.02672546,  0.0358444 ,  0.02781415,\n",
      "          -0.0860892 ,  0.11177157, -0.09974393,  0.01845145]],\n",
      "\n",
      "        [[ 0.05124688,  0.00093608,  0.00947954,  0.10816844,\n",
      "           0.08796331,  0.01764002,  0.03905615, -0.02660536,\n",
      "          -0.00842361,  0.08685109, -0.13179259, -0.08653279,\n",
      "          -0.03226783, -0.10771912, -0.08787015,  0.01663363,\n",
      "          -0.10911243,  0.09174141,  0.07870342, -0.10873347,\n",
      "           0.03275354,  0.08471201, -0.03824247,  0.01548618,\n",
      "          -0.03584078, -0.04686122,  0.03653994,  0.1028575 ,\n",
      "           0.09629688, -0.00848816, -0.1347335 , -0.014823  ]],\n",
      "\n",
      "        [[-0.1304314 ,  0.03416277, -0.05831673, -0.13807076,\n",
      "          -0.02208526, -0.02802408,  0.0309834 , -0.0559661 ,\n",
      "          -0.02306115,  0.0451332 ,  0.05513921,  0.04701729,\n",
      "           0.09908985,  0.1204531 , -0.02405744, -0.00731181,\n",
      "           0.00646994,  0.08913201,  0.01276706,  0.01613162,\n",
      "          -0.1275776 ,  0.03151594, -0.05374435, -0.03155698,\n",
      "          -0.04409929, -0.03488576, -0.06664979, -0.05472372,\n",
      "          -0.11843213,  0.10147375, -0.00153869,  0.02737057]]],\n",
      "\n",
      "\n",
      "       [[[ 0.12650119, -0.12126887,  0.09409055,  0.01081894,\n",
      "           0.09446979, -0.01812384, -0.0221181 , -0.06266197,\n",
      "           0.03641917, -0.02692603,  0.09977843, -0.1086555 ,\n",
      "          -0.11366527,  0.12796928,  0.03664641,  0.13977353,\n",
      "          -0.06374345,  0.01916878,  0.02550253,  0.1245638 ,\n",
      "          -0.067582  ,  0.12877075,  0.12380616,  0.10839938,\n",
      "          -0.0083186 ,  0.02160792,  0.1269709 ,  0.10085768,\n",
      "          -0.08794965,  0.12750171, -0.01594053,  0.12019177]],\n",
      "\n",
      "        [[ 0.00615689,  0.13431387,  0.11800145,  0.03912823,\n",
      "           0.06698363, -0.0914435 ,  0.13553347,  0.0101255 ,\n",
      "           0.02374846, -0.04097766, -0.1243943 , -0.00615008,\n",
      "          -0.0954413 ,  0.10262324,  0.05347334, -0.04437409,\n",
      "           0.05664527, -0.08460443, -0.03994301, -0.0175591 ,\n",
      "           0.01885545,  0.08147506,  0.00392616, -0.02890591,\n",
      "          -0.08065736,  0.11527212, -0.04816893, -0.02191409,\n",
      "           0.01475546,  0.03791749,  0.02272299, -0.04966515]],\n",
      "\n",
      "        [[-0.03233968, -0.10222964,  0.09561639,  0.06617245,\n",
      "          -0.07959608,  0.04590492,  0.01203288, -0.08150299,\n",
      "          -0.00724532,  0.00197272, -0.06380025, -0.11382809,\n",
      "           0.0102741 , -0.13157059, -0.04793625,  0.0118075 ,\n",
      "          -0.05023941, -0.12368619, -0.01080881,  0.04369268,\n",
      "          -0.13063058,  0.06119908, -0.00326176, -0.10086483,\n",
      "           0.05759673,  0.06745011,  0.05915046, -0.1124215 ,\n",
      "          -0.0332076 , -0.08952931, -0.01195617, -0.06157506]]]],\n",
      "      dtype=float32)>\n",
      "<tf.Variable 'conv2d_13/kernel:0' shape=(3, 3, 32, 64) dtype=float32, numpy=\n",
      "array([[[[-1.78318843e-02, -2.04213634e-02,  1.95693746e-02, ...,\n",
      "           2.71690264e-02,  1.87961087e-02, -5.90662770e-02],\n",
      "         [-2.29034051e-02,  6.64038286e-02, -4.21044827e-02, ...,\n",
      "           5.13872132e-02, -1.25909671e-02, -1.32799968e-02],\n",
      "         [ 4.63707820e-02,  1.27364993e-02,  9.00506973e-03, ...,\n",
      "           3.73071656e-02,  5.58436140e-02, -4.22942638e-02],\n",
      "         ...,\n",
      "         [ 4.08224091e-02, -2.30396390e-02,  1.69335231e-02, ...,\n",
      "          -5.32491021e-02, -4.44542579e-02,  2.31099501e-02],\n",
      "         [ 1.28235593e-02,  2.14972869e-02, -6.74085617e-02, ...,\n",
      "          -4.51027751e-02, -3.63055095e-02, -4.07732949e-02],\n",
      "         [-1.28591657e-02,  7.79304281e-02,  8.06074962e-02, ...,\n",
      "          -2.60317326e-02,  8.21741894e-02, -7.00247288e-02]],\n",
      "\n",
      "        [[ 7.10947737e-02,  1.46728754e-03,  7.53796175e-02, ...,\n",
      "          -6.62015527e-02,  4.90227565e-02,  6.60758689e-02],\n",
      "         [-1.04347244e-02, -2.47265920e-02,  5.63367382e-02, ...,\n",
      "          -3.11971903e-02,  5.94362244e-02,  5.54029718e-02],\n",
      "         [ 6.01500943e-02, -5.79284839e-02,  3.76515165e-02, ...,\n",
      "          -1.86156854e-02,  1.32765621e-03,  8.22631493e-02],\n",
      "         ...,\n",
      "         [-1.12839118e-02,  3.22903022e-02,  4.97834161e-02, ...,\n",
      "          -3.44179682e-02,  3.10229287e-02,  1.96273699e-02],\n",
      "         [-1.70006603e-03,  5.63827232e-02, -5.00390343e-02, ...,\n",
      "           4.43716720e-02,  7.48193637e-02, -5.32312207e-02],\n",
      "         [ 6.64151087e-02, -7.56977424e-02, -1.97031274e-02, ...,\n",
      "          -9.59549099e-03, -4.13929820e-02, -7.19938502e-02]],\n",
      "\n",
      "        [[ 1.75588354e-02, -7.37775788e-02, -5.44046573e-02, ...,\n",
      "           3.20050120e-02, -3.53869013e-02, -1.44398436e-02],\n",
      "         [ 2.55561471e-02,  1.14663616e-02, -7.53616318e-02, ...,\n",
      "          -2.11738348e-02,  1.95544139e-02, -7.20544681e-02],\n",
      "         [-4.65335250e-02,  3.16524729e-02, -6.56603575e-02, ...,\n",
      "           5.47721460e-02, -1.05227605e-02, -7.88283795e-02],\n",
      "         ...,\n",
      "         [-4.75405082e-02,  2.42019519e-02, -2.41828561e-02, ...,\n",
      "          -4.57624793e-02, -2.57939920e-02,  4.37437370e-02],\n",
      "         [-7.35239834e-02, -3.81778888e-02,  2.02563182e-02, ...,\n",
      "          -7.24119172e-02, -6.54515475e-02, -4.58147153e-02],\n",
      "         [ 4.56983820e-02, -4.05513458e-02,  6.36339560e-02, ...,\n",
      "           8.15945491e-02,  5.77572808e-02, -5.26308231e-02]]],\n",
      "\n",
      "\n",
      "       [[[ 4.42018360e-03, -4.91238646e-02,  1.28487945e-02, ...,\n",
      "          -6.34147972e-02,  2.90439725e-02,  7.25871548e-02],\n",
      "         [-2.75474191e-02, -4.84002456e-02,  2.26718560e-02, ...,\n",
      "          -4.24789190e-02,  5.73425665e-02, -2.23286375e-02],\n",
      "         [ 8.30367580e-02,  1.68562904e-02, -9.88277048e-03, ...,\n",
      "           5.45412377e-02, -1.71276182e-03,  7.05359951e-02],\n",
      "         ...,\n",
      "         [ 3.50592956e-02,  5.99133447e-02,  6.42156601e-03, ...,\n",
      "          -6.37646914e-02,  3.04493681e-02, -8.26142430e-02],\n",
      "         [-6.60938025e-03, -2.03832984e-02,  7.23874569e-03, ...,\n",
      "          -2.17184424e-02, -7.31257424e-02, -7.14501962e-02],\n",
      "         [ 8.03137496e-02,  1.01220608e-02, -6.45253062e-02, ...,\n",
      "          -1.00488067e-02,  4.55032066e-02,  7.75298849e-02]],\n",
      "\n",
      "        [[ 4.72149327e-02, -6.51463270e-02,  8.04309472e-02, ...,\n",
      "           7.60937557e-02,  3.71642485e-02, -6.58446550e-02],\n",
      "         [ 4.49763611e-02, -2.66915560e-03,  7.91390762e-02, ...,\n",
      "          -1.38580799e-03, -3.66374254e-02,  6.84876069e-02],\n",
      "         [ 4.47022915e-03,  5.49647287e-02,  2.10749507e-02, ...,\n",
      "          -5.71369156e-02,  6.00609854e-02,  1.36907324e-02],\n",
      "         ...,\n",
      "         [-6.40717372e-02,  2.47793198e-02,  6.81941286e-02, ...,\n",
      "           8.30557421e-02, -7.24527985e-03, -2.93367133e-02],\n",
      "         [ 1.42929778e-02, -5.76951131e-02, -3.35045271e-02, ...,\n",
      "          -1.43048912e-03, -4.24780697e-03, -9.92983580e-03],\n",
      "         [-4.94848490e-02,  4.34696674e-03,  6.56416491e-02, ...,\n",
      "           9.70993191e-03, -2.29157805e-02,  8.36833566e-03]],\n",
      "\n",
      "        [[-6.59198388e-02, -4.95950803e-02, -1.25498548e-02, ...,\n",
      "          -5.20254001e-02, -7.94281960e-02,  1.79600492e-02],\n",
      "         [ 8.15582946e-02,  6.48746863e-02, -1.51658058e-03, ...,\n",
      "           2.95298472e-02, -3.24835777e-02,  9.66242701e-03],\n",
      "         [ 7.43484274e-02,  3.13391313e-02,  5.83746061e-02, ...,\n",
      "          -4.22874317e-02, -3.28997187e-02,  1.45396814e-02],\n",
      "         ...,\n",
      "         [ 3.96500453e-02,  2.45892406e-02,  6.19783625e-02, ...,\n",
      "           6.11116514e-02, -2.36696601e-02, -4.08280306e-02],\n",
      "         [-4.27663140e-02,  5.53628430e-02, -3.32371220e-02, ...,\n",
      "           3.40530649e-02,  4.78207693e-02, -3.75200920e-02],\n",
      "         [ 6.81064203e-02,  2.14566216e-02, -1.37587786e-02, ...,\n",
      "           3.82385403e-03,  3.17711830e-02,  6.07161000e-02]]],\n",
      "\n",
      "\n",
      "       [[[-4.12425809e-02,  4.41232100e-02,  7.37433061e-02, ...,\n",
      "           1.11795664e-02, -4.89567742e-02, -1.57326683e-02],\n",
      "         [-3.49078774e-02, -5.97126484e-02, -7.19682127e-03, ...,\n",
      "          -7.15873390e-03, -6.98484629e-02, -1.19420290e-02],\n",
      "         [ 8.19053501e-03,  1.69639587e-02, -5.79674654e-02, ...,\n",
      "          -5.22532277e-02, -5.32593131e-02,  7.00249895e-02],\n",
      "         ...,\n",
      "         [-6.00427017e-02,  7.58921281e-02,  8.13661888e-02, ...,\n",
      "           4.70266491e-03,  2.63035297e-03,  2.11154819e-02],\n",
      "         [-1.86157227e-03, -6.98921829e-03, -3.98377329e-03, ...,\n",
      "           7.12837651e-02, -6.45180345e-02, -1.21824965e-02],\n",
      "         [ 4.55804840e-02,  6.50807098e-02, -7.38260970e-02, ...,\n",
      "           4.61449698e-02,  2.48125568e-02,  4.24343571e-02]],\n",
      "\n",
      "        [[-7.93826208e-02,  5.87900504e-02, -8.01806897e-02, ...,\n",
      "          -3.69680934e-02,  1.52925625e-02,  6.60406575e-02],\n",
      "         [ 2.34090462e-02, -5.38234711e-02,  4.89237681e-02, ...,\n",
      "           2.63717547e-02,  2.43991613e-03,  5.78076318e-02],\n",
      "         [ 7.19944462e-02, -3.33509594e-03,  2.21476182e-02, ...,\n",
      "          -7.42052048e-02,  6.23135939e-02,  3.31511348e-03],\n",
      "         ...,\n",
      "         [-7.80214071e-02, -4.60848212e-02,  4.42106202e-02, ...,\n",
      "           6.09363988e-02,  7.43801817e-02, -6.10441975e-02],\n",
      "         [-8.24196339e-02,  2.08356157e-02,  4.78043929e-02, ...,\n",
      "          -1.66428909e-02, -7.55216479e-02,  1.97380781e-03],\n",
      "         [ 6.52085766e-02, -9.34424251e-03,  6.07122257e-02, ...,\n",
      "          -7.99749345e-02, -7.72086531e-03, -8.03784281e-03]],\n",
      "\n",
      "        [[-2.44333372e-02, -5.57595119e-02,  5.56816682e-02, ...,\n",
      "          -2.27915458e-02,  2.36911178e-02, -2.40858011e-02],\n",
      "         [ 3.56793180e-02, -2.38840394e-02,  1.01930127e-02, ...,\n",
      "           7.59819821e-02,  3.39500308e-02, -5.71857095e-02],\n",
      "         [ 7.67764077e-02, -1.42216906e-02,  6.59413412e-02, ...,\n",
      "           4.22701910e-02,  7.41695389e-02,  7.21447244e-02],\n",
      "         ...,\n",
      "         [ 2.94500589e-03,  1.50628686e-02,  7.78033212e-02, ...,\n",
      "          -3.20363864e-02,  5.71331605e-02,  7.16075301e-05],\n",
      "         [ 2.48676538e-02,  6.92893341e-02,  2.18080655e-02, ...,\n",
      "           7.77475312e-02, -4.01927046e-02,  3.44016775e-02],\n",
      "         [ 1.56389475e-02, -2.94526666e-03, -3.46593075e-02, ...,\n",
      "          -5.55307083e-02,  5.06049395e-03, -6.37955517e-02]]]],\n",
      "      dtype=float32)>\n"
     ]
    }
   ],
   "source": [
    "print(model.layers[0].kernel)\n",
    "print(model.layers[2].kernel)\n"
   ]
  },
  {
   "cell_type": "markdown",
   "metadata": {},
   "source": [
    "## Train the model\n",
    "\n",
    "* batch_size:\n",
    "* epochs: number of iterations"
   ]
  },
  {
   "cell_type": "code",
   "execution_count": 180,
   "metadata": {},
   "outputs": [
    {
     "name": "stdout",
     "output_type": "stream",
     "text": [
      "Epoch 1/10\n"
     ]
    },
    {
     "name": "stdout",
     "output_type": "stream",
     "text": [
      "469/469 [==============================] - 58s 122ms/step - loss: 0.2712 - accuracy: 0.9255 - val_loss: 10.0669 - val_accuracy: 0.9777\n",
      "Epoch 2/10\n",
      "469/469 [==============================] - 56s 119ms/step - loss: 0.0732 - accuracy: 0.9780 - val_loss: 5.4060 - val_accuracy: 0.9849\n",
      "Epoch 3/10\n",
      "469/469 [==============================] - 56s 119ms/step - loss: 0.0537 - accuracy: 0.9840 - val_loss: 7.1290 - val_accuracy: 0.9826\n",
      "Epoch 4/10\n",
      "469/469 [==============================] - 48s 103ms/step - loss: 0.0437 - accuracy: 0.9867 - val_loss: 5.9989 - val_accuracy: 0.9859\n",
      "Epoch 5/10\n",
      "469/469 [==============================] - 46s 98ms/step - loss: 0.0371 - accuracy: 0.9883 - val_loss: 6.8260 - val_accuracy: 0.9876\n",
      "Epoch 6/10\n",
      "469/469 [==============================] - 43s 92ms/step - loss: 0.0316 - accuracy: 0.9901 - val_loss: 7.4118 - val_accuracy: 0.9867\n",
      "Epoch 7/10\n",
      "469/469 [==============================] - 44s 93ms/step - loss: 0.0278 - accuracy: 0.9913 - val_loss: 5.9236 - val_accuracy: 0.9887\n",
      "Epoch 8/10\n",
      "469/469 [==============================] - 44s 94ms/step - loss: 0.0239 - accuracy: 0.9924 - val_loss: 7.1337 - val_accuracy: 0.9882\n",
      "Epoch 9/10\n",
      "469/469 [==============================] - 50s 108ms/step - loss: 0.0209 - accuracy: 0.9932 - val_loss: 6.5046 - val_accuracy: 0.9875\n",
      "Epoch 10/10\n",
      "469/469 [==============================] - 49s 105ms/step - loss: 0.0188 - accuracy: 0.9941 - val_loss: 9.1546 - val_accuracy: 0.9868\n"
     ]
    },
    {
     "data": {
      "text/plain": [
       "<keras.callbacks.History at 0x7f875c1d0a50>"
      ]
     },
     "execution_count": 180,
     "metadata": {},
     "output_type": "execute_result"
    }
   ],
   "source": [
    "model.fit(X_train,y_train,batch_size=128, epochs=10, validation_data=(X_test,y_test))"
   ]
  },
  {
   "cell_type": "markdown",
   "metadata": {},
   "source": [
    "## Model accuracy\n",
    "\n"
   ]
  },
  {
   "cell_type": "code",
   "execution_count": 181,
   "metadata": {},
   "outputs": [
    {
     "name": "stdout",
     "output_type": "stream",
     "text": [
      "313/313 - 2s - loss: 9.1546 - accuracy: 0.9868 - 2s/epoch - 6ms/step\n",
      "Test accuracy: 0.9868000149726868\n",
      "Test loss: 9.15458869934082\n"
     ]
    }
   ],
   "source": [
    "test_loss, test_acc = model.evaluate(X_test,y_test,verbose=2)\n",
    "print('Test accuracy:',test_acc)\n",
    "print('Test loss:',test_loss)"
   ]
  },
  {
   "cell_type": "code",
   "execution_count": 182,
   "metadata": {},
   "outputs": [
    {
     "name": "stdout",
     "output_type": "stream",
     "text": [
      "313/313 [==============================] - 3s 8ms/step\n"
     ]
    }
   ],
   "source": [
    "y_pred = model.predict(X_test)"
   ]
  }
 ],
 "metadata": {
  "kernelspec": {
   "display_name": "base",
   "language": "python",
   "name": "python3"
  },
  "language_info": {
   "codemirror_mode": {
    "name": "ipython",
    "version": 3
   },
   "file_extension": ".py",
   "mimetype": "text/x-python",
   "name": "python",
   "nbconvert_exporter": "python",
   "pygments_lexer": "ipython3",
   "version": "3.11.5"
  },
  "orig_nbformat": 4
 },
 "nbformat": 4,
 "nbformat_minor": 2
}
