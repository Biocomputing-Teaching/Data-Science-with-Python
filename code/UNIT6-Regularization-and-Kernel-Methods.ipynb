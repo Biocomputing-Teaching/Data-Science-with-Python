{
 "cells": [
  {
   "cell_type": "markdown",
   "metadata": {},
   "source": [
    "# UNIT 6. Regularization and kernel methods\n",
    "\n",
    "This Unit includes main introduction to regularization and kernel methods, strongly based in {cite}`kroese2020`.\n",
    "\n",
    "```{bibliography}\n",
    "```"
   ]
  }
 ],
 "metadata": {
  "language_info": {
   "name": "python"
  },
  "orig_nbformat": 4
 },
 "nbformat": 4,
 "nbformat_minor": 2
}
